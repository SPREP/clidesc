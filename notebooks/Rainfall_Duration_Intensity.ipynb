{
 "metadata": {
  "name": "",
  "signature": "sha256:3661bd5cdfe781597bbf3610817b99b12967d1214517e535e8d8cd2cad8bc1d6"
 },
 "nbformat": 3,
 "nbformat_minor": 0,
 "worksheets": [
  {
   "cells": [
    {
     "cell_type": "heading",
     "level": 1,
     "metadata": {},
     "source": [
      "climate risk analysis"
     ]
    },
    {
     "cell_type": "code",
     "collapsed": false,
     "input": [
      "import numpy as np\n",
      "from numpy import ma\n",
      "import matplotlib as mpl\n",
      "import matplotlib.pyplot as plt\n",
      "import pandas as pd\n",
      "from datetime import datetime"
     ],
     "language": "python",
     "metadata": {},
     "outputs": [],
     "prompt_number": 2
    },
    {
     "cell_type": "code",
     "collapsed": false,
     "input": [
      "%matplotlib inline"
     ],
     "language": "python",
     "metadata": {},
     "outputs": [],
     "prompt_number": 3
    },
    {
     "cell_type": "code",
     "collapsed": false,
     "input": [
      "data = pd.read_csv('/Users/nicolasf/Dropbox/Samoa_data/76216_ext_obs_aws.csv', index_col=['lsd'])"
     ],
     "language": "python",
     "metadata": {},
     "outputs": [],
     "prompt_number": 4
    },
    {
     "cell_type": "code",
     "collapsed": false,
     "input": [
      "data.columns.tolist()"
     ],
     "language": "python",
     "metadata": {},
     "outputs": [
      {
       "metadata": {},
       "output_type": "pyout",
       "prompt_number": 7,
       "text": [
        "['id',\n",
        " 'station_no',\n",
        " 'gmt',\n",
        " 'lct',\n",
        " 'insert_datetime',\n",
        " 'change_datetime',\n",
        " 'change_user',\n",
        " 'data_source',\n",
        " 'qa_flag',\n",
        " 'measure_period',\n",
        " 'mn_wind_dir_pt',\n",
        " 'mn_wind_dir_deg',\n",
        " 'mn_wind_dir_qa',\n",
        " 'mn_wind_dir_stddev',\n",
        " 'mn_wind_dir_stddev_qa',\n",
        " 'mn_wind_speed',\n",
        " 'mn_wind_speed_qa',\n",
        " 'mn_wind_speed_stddev',\n",
        " 'mn_wind_speed_stddev_qa',\n",
        " 'mn_gust_speed',\n",
        " 'mn_gust_speed_qa',\n",
        " 'mn_gust_time',\n",
        " 'mn_gust_time_qa',\n",
        " 'mn_gust_dir_pt',\n",
        " 'mn_gust_dir_deg',\n",
        " 'mn_gust_dir_qa',\n",
        " 'inst_gust_speed',\n",
        " 'inst_gust_qa',\n",
        " 'inst_gust_time',\n",
        " 'inst_gust_time_qa',\n",
        " 'inst_gust_dir_pt',\n",
        " 'inst_gust_dir_deg',\n",
        " 'inst_gust_dir_qa',\n",
        " 'mn_temp',\n",
        " 'mn_temp_qa',\n",
        " 'mn_temp_subaveraging',\n",
        " 'mn_temp_subaveraging_period',\n",
        " 'mn_temp_subaveraging_qa',\n",
        " 'max_temp',\n",
        " 'max_temp_time',\n",
        " 'max_temp_time_qa',\n",
        " 'max_temp_qa',\n",
        " 'min_temp',\n",
        " 'min_temp_qa',\n",
        " 'min_temp_time',\n",
        " 'min_temp_time_qa',\n",
        " 'min_grass_temp',\n",
        " 'min_grass_temp_qa',\n",
        " 'min_grass_temp_time',\n",
        " 'min_grass_temp_time_qa',\n",
        " 'mn_humidity',\n",
        " 'mn_humidity_qa',\n",
        " 'max_humidity',\n",
        " 'max_humidity_qa',\n",
        " 'max_humidity_time',\n",
        " 'max_humidity_time_qa',\n",
        " 'min_humidity',\n",
        " 'min_humidity_qa',\n",
        " 'min_humidity_time',\n",
        " 'min_humidity_time_qa',\n",
        " 'mn_station_pres',\n",
        " 'mn_station_pres_qa',\n",
        " 'mn_sea_level_pres',\n",
        " 'mn_sea_level_pres_qa',\n",
        " 'max_pres',\n",
        " 'max_pres_qa',\n",
        " 'max_pres_time',\n",
        " 'max_pres_time_qa',\n",
        " 'min_pres',\n",
        " 'min_pres_qa',\n",
        " 'min_pres_time',\n",
        " 'min_pres_time_qa',\n",
        " 'tot_rain',\n",
        " 'tot_rain_qa',\n",
        " 'tot_rain_two',\n",
        " 'tot_rain_two_qa',\n",
        " 'tot_sun',\n",
        " 'tot_sun_qa',\n",
        " 'tot_insolation',\n",
        " 'tot_insolation_qa',\n",
        " 'leaf_wetness',\n",
        " 'leaf_wetness_qa',\n",
        " 'mn_uv',\n",
        " 'mn_uv_qa',\n",
        " 'mn_soil_moisture_10',\n",
        " 'mn_soil_moisture_10_qa',\n",
        " 'mn_soil_temp_10',\n",
        " 'mn_soil_temp_10_qa',\n",
        " 'mn_soil_moisture_20',\n",
        " 'mn_soil_moisture_20_qa',\n",
        " 'mn_soil_temp_20',\n",
        " 'mn_soil_temp_20_qa',\n",
        " 'mn_soil_moisture_30',\n",
        " 'mn_soil_moisture_30_qa',\n",
        " 'mn_soil_temp_30',\n",
        " 'mn_soil_temp_30_qa',\n",
        " 'mn_soil_moisture_50',\n",
        " 'mn_soil_moisture_50_qa',\n",
        " 'mn_soil_temp_50',\n",
        " 'mn_soil_temp_50_qa',\n",
        " 'mn_soil_moisture_100',\n",
        " 'mn_soil_moisture_100_qa',\n",
        " 'mn_soil_temp_100',\n",
        " 'mn_soil_temp_100_qa']"
       ]
      }
     ],
     "prompt_number": 7
    },
    {
     "cell_type": "heading",
     "level": 3,
     "metadata": {},
     "source": [
      "create a datetime index from the Date and Time columns"
     ]
    },
    {
     "cell_type": "code",
     "collapsed": false,
     "input": [
      "format = \"%d/%m/%Y %H:%M:%S\"\n",
      "times = pd.to_datetime(data.Date + ' ' + data.Time, format=format)\n",
      "data.set_index(times, inplace=True)\n",
      "# cleanup\n",
      "data = data.drop(['Date','Time'], axis=1)"
     ],
     "language": "python",
     "metadata": {},
     "outputs": [],
     "prompt_number": 36
    },
    {
     "cell_type": "heading",
     "level": 3,
     "metadata": {},
     "source": [
      "Sorts in chronological order just in case"
     ]
    },
    {
     "cell_type": "code",
     "collapsed": false,
     "input": [
      "data = data.sort_index()"
     ],
     "language": "python",
     "metadata": {},
     "outputs": [],
     "prompt_number": 37
    },
    {
     "cell_type": "code",
     "collapsed": false,
     "input": [
      "data.head()"
     ],
     "language": "python",
     "metadata": {},
     "outputs": [
      {
       "html": [
        "<div style=\"max-height:1000px;max-width:1500px;overflow:auto;\">\n",
        "<table border=\"1\" class=\"dataframe\">\n",
        "  <thead>\n",
        "    <tr style=\"text-align: right;\">\n",
        "      <th></th>\n",
        "      <th>Node ID</th>\n",
        "      <th>Logger Name</th>\n",
        "      <th>100cm(AVG)</th>\n",
        "      <th>10cm(AVG)</th>\n",
        "      <th>20cm(AVG)</th>\n",
        "      <th>30cm(AVG)</th>\n",
        "      <th>BP(AVG)</th>\n",
        "      <th>External Supply(RAW)</th>\n",
        "      <th>Gust WD(RAW)</th>\n",
        "      <th>Gust WS(RAW)</th>\n",
        "      <th>Leaf Wetness(RAW)</th>\n",
        "      <th>Mean WD(RAW)</th>\n",
        "      <th>Mean WS(RAW)</th>\n",
        "      <th>Rain(TOT)</th>\n",
        "      <th>RH(AVG)</th>\n",
        "      <th>SD WD(RAW)</th>\n",
        "      <th>SD WS(RAW)</th>\n",
        "      <th>Solar Radiation(AVG)</th>\n",
        "      <th>Temperature(AVG)</th>\n",
        "      <th>Temperature(MAX)</th>\n",
        "      <th></th>\n",
        "    </tr>\n",
        "  </thead>\n",
        "  <tbody>\n",
        "    <tr>\n",
        "      <th>2010-07-02 10:00:00</th>\n",
        "      <td>NaN</td>\n",
        "      <td> Afiamalu AWS</td>\n",
        "      <td> 23.3</td>\n",
        "      <td> 21.1</td>\n",
        "      <td> 20.8</td>\n",
        "      <td> 21.6</td>\n",
        "      <td> 922.7</td>\n",
        "      <td> 13424</td>\n",
        "      <td> 173</td>\n",
        "      <td> 6.5</td>\n",
        "      <td> 619</td>\n",
        "      <td> 162</td>\n",
        "      <td> 3.3</td>\n",
        "      <td> 0.0</td>\n",
        "      <td> 98.8</td>\n",
        "      <td> 28</td>\n",
        "      <td> 1.2</td>\n",
        "      <td> 105.8</td>\n",
        "      <td> 22.6</td>\n",
        "      <td> 23.2</td>\n",
        "      <td>...</td>\n",
        "    </tr>\n",
        "    <tr>\n",
        "      <th>2010-07-02 10:10:00</th>\n",
        "      <td>NaN</td>\n",
        "      <td> Afiamalu AWS</td>\n",
        "      <td> 24.3</td>\n",
        "      <td> 21.3</td>\n",
        "      <td> 21.0</td>\n",
        "      <td> 22.0</td>\n",
        "      <td> 936.6</td>\n",
        "      <td> 13397</td>\n",
        "      <td> 177</td>\n",
        "      <td> 9.1</td>\n",
        "      <td> 593</td>\n",
        "      <td> 168</td>\n",
        "      <td> 3.8</td>\n",
        "      <td> 0.2</td>\n",
        "      <td> 98.8</td>\n",
        "      <td> 26</td>\n",
        "      <td> 1.6</td>\n",
        "      <td> 109.3</td>\n",
        "      <td> 22.4</td>\n",
        "      <td> 22.9</td>\n",
        "      <td>...</td>\n",
        "    </tr>\n",
        "    <tr>\n",
        "      <th>2010-07-02 10:20:00</th>\n",
        "      <td>NaN</td>\n",
        "      <td> Afiamalu AWS</td>\n",
        "      <td> 24.3</td>\n",
        "      <td> 21.4</td>\n",
        "      <td> 21.1</td>\n",
        "      <td> 22.0</td>\n",
        "      <td> 936.6</td>\n",
        "      <td> 13572</td>\n",
        "      <td> 190</td>\n",
        "      <td> 7.3</td>\n",
        "      <td> 641</td>\n",
        "      <td> 165</td>\n",
        "      <td> 3.0</td>\n",
        "      <td> 0.0</td>\n",
        "      <td> 98.8</td>\n",
        "      <td> 33</td>\n",
        "      <td> 1.2</td>\n",
        "      <td> 129.4</td>\n",
        "      <td> 22.3</td>\n",
        "      <td> 22.7</td>\n",
        "      <td>...</td>\n",
        "    </tr>\n",
        "    <tr>\n",
        "      <th>2010-07-02 10:30:00</th>\n",
        "      <td>NaN</td>\n",
        "      <td> Afiamalu AWS</td>\n",
        "      <td> 24.3</td>\n",
        "      <td> 21.6</td>\n",
        "      <td> 21.2</td>\n",
        "      <td> 22.1</td>\n",
        "      <td> 936.7</td>\n",
        "      <td> 13559</td>\n",
        "      <td> 178</td>\n",
        "      <td> 8.2</td>\n",
        "      <td> 545</td>\n",
        "      <td> 165</td>\n",
        "      <td> 3.5</td>\n",
        "      <td> 0.2</td>\n",
        "      <td> 98.5</td>\n",
        "      <td> 27</td>\n",
        "      <td> 1.4</td>\n",
        "      <td> 156.4</td>\n",
        "      <td> 22.2</td>\n",
        "      <td> 22.6</td>\n",
        "      <td>...</td>\n",
        "    </tr>\n",
        "    <tr>\n",
        "      <th>2010-07-02 10:40:00</th>\n",
        "      <td>NaN</td>\n",
        "      <td> Afiamalu AWS</td>\n",
        "      <td> 24.3</td>\n",
        "      <td> 22.3</td>\n",
        "      <td> 21.6</td>\n",
        "      <td> 22.3</td>\n",
        "      <td> 936.7</td>\n",
        "      <td> 13908</td>\n",
        "      <td> 134</td>\n",
        "      <td> 8.3</td>\n",
        "      <td> 599</td>\n",
        "      <td> 174</td>\n",
        "      <td> 3.4</td>\n",
        "      <td> 0.4</td>\n",
        "      <td> 98.7</td>\n",
        "      <td> 26</td>\n",
        "      <td> 1.3</td>\n",
        "      <td> 309.9</td>\n",
        "      <td> 22.3</td>\n",
        "      <td> 23.1</td>\n",
        "      <td>...</td>\n",
        "    </tr>\n",
        "  </tbody>\n",
        "</table>\n",
        "<p>5 rows \u00d7 22 columns</p>\n",
        "</div>"
       ],
       "metadata": {},
       "output_type": "pyout",
       "prompt_number": 38,
       "text": [
        "                     Node ID   Logger Name  100cm(AVG)  10cm(AVG)  20cm(AVG)  \\\n",
        "2010-07-02 10:00:00      NaN  Afiamalu AWS        23.3       21.1       20.8   \n",
        "2010-07-02 10:10:00      NaN  Afiamalu AWS        24.3       21.3       21.0   \n",
        "2010-07-02 10:20:00      NaN  Afiamalu AWS        24.3       21.4       21.1   \n",
        "2010-07-02 10:30:00      NaN  Afiamalu AWS        24.3       21.6       21.2   \n",
        "2010-07-02 10:40:00      NaN  Afiamalu AWS        24.3       22.3       21.6   \n",
        "\n",
        "                     30cm(AVG)  BP(AVG)  External Supply(RAW)  Gust WD(RAW)  \\\n",
        "2010-07-02 10:00:00       21.6    922.7                 13424           173   \n",
        "2010-07-02 10:10:00       22.0    936.6                 13397           177   \n",
        "2010-07-02 10:20:00       22.0    936.6                 13572           190   \n",
        "2010-07-02 10:30:00       22.1    936.7                 13559           178   \n",
        "2010-07-02 10:40:00       22.3    936.7                 13908           134   \n",
        "\n",
        "                     Gust WS(RAW)  Leaf Wetness(RAW)  Mean WD(RAW)  \\\n",
        "2010-07-02 10:00:00           6.5                619           162   \n",
        "2010-07-02 10:10:00           9.1                593           168   \n",
        "2010-07-02 10:20:00           7.3                641           165   \n",
        "2010-07-02 10:30:00           8.2                545           165   \n",
        "2010-07-02 10:40:00           8.3                599           174   \n",
        "\n",
        "                     Mean WS(RAW)  Rain(TOT)  RH(AVG)  SD WD(RAW)  SD WS(RAW)  \\\n",
        "2010-07-02 10:00:00           3.3        0.0     98.8          28         1.2   \n",
        "2010-07-02 10:10:00           3.8        0.2     98.8          26         1.6   \n",
        "2010-07-02 10:20:00           3.0        0.0     98.8          33         1.2   \n",
        "2010-07-02 10:30:00           3.5        0.2     98.5          27         1.4   \n",
        "2010-07-02 10:40:00           3.4        0.4     98.7          26         1.3   \n",
        "\n",
        "                     Solar Radiation(AVG)  Temperature(AVG)  Temperature(MAX)  \\\n",
        "2010-07-02 10:00:00                 105.8              22.6              23.2   \n",
        "2010-07-02 10:10:00                 109.3              22.4              22.9   \n",
        "2010-07-02 10:20:00                 129.4              22.3              22.7   \n",
        "2010-07-02 10:30:00                 156.4              22.2              22.6   \n",
        "2010-07-02 10:40:00                 309.9              22.3              23.1   \n",
        "\n",
        "                         \n",
        "2010-07-02 10:00:00 ...  \n",
        "2010-07-02 10:10:00 ...  \n",
        "2010-07-02 10:20:00 ...  \n",
        "2010-07-02 10:30:00 ...  \n",
        "2010-07-02 10:40:00 ...  \n",
        "\n",
        "[5 rows x 22 columns]"
       ]
      }
     ],
     "prompt_number": 38
    },
    {
     "cell_type": "markdown",
     "metadata": {},
     "source": [
      "One thing we can calculate is the percentage of total monthly rainfall contributed by different classes of 10 mn, 1 hour, 1 day rainfall  \n",
      "\n",
      "We would need first to only keep days with rainfall  \n",
      "\n",
      "The decide on thresholds "
     ]
    },
    {
     "cell_type": "heading",
     "level": 3,
     "metadata": {},
     "source": [
      "Get rid of the aberrant values"
     ]
    },
    {
     "cell_type": "code",
     "collapsed": false,
     "input": [
      "data['Rain(TOT)'][data['Rain(TOT)'] >= 100] = np.nan"
     ],
     "language": "python",
     "metadata": {},
     "outputs": [],
     "prompt_number": 39
    },
    {
     "cell_type": "code",
     "collapsed": false,
     "input": [
      "data['Rain(TOT)'].max()"
     ],
     "language": "python",
     "metadata": {},
     "outputs": [
      {
       "metadata": {},
       "output_type": "pyout",
       "prompt_number": 40,
       "text": [
        "58.799999999999997"
       ]
      }
     ],
     "prompt_number": 40
    },
    {
     "cell_type": "heading",
     "level": 3,
     "metadata": {},
     "source": [
      "There's also obviously something dead wrong with these values"
     ]
    },
    {
     "cell_type": "code",
     "collapsed": false,
     "input": [
      "data['2011-05-07 21:30:00':'2011-05-08 08:30:00']['Rain(TOT)']"
     ],
     "language": "python",
     "metadata": {},
     "outputs": [
      {
       "metadata": {},
       "output_type": "pyout",
       "prompt_number": 41,
       "text": [
        "2011-05-07 21:30:36     0.0\n",
        "2011-05-07 21:40:36     0.0\n",
        "2011-05-07 21:50:36     0.0\n",
        "2011-05-07 22:00:36    51.2\n",
        "2011-05-07 22:10:36    51.2\n",
        "2011-05-07 22:20:36    51.2\n",
        "2011-05-07 22:30:36    51.2\n",
        "2011-05-07 22:40:36    51.2\n",
        "2011-05-07 22:50:36    51.2\n",
        "2011-05-07 23:00:36    51.2\n",
        "2011-05-07 23:10:36    51.2\n",
        "2011-05-07 23:20:36    51.2\n",
        "2011-05-07 23:30:36    51.2\n",
        "2011-05-07 23:40:36    51.2\n",
        "2011-05-07 23:50:36    51.2\n",
        "...\n",
        "2011-05-08 06:00:36    0\n",
        "2011-05-08 06:10:36    0\n",
        "2011-05-08 06:20:36    0\n",
        "2011-05-08 06:30:36    0\n",
        "2011-05-08 06:40:36    0\n",
        "2011-05-08 06:50:36    0\n",
        "2011-05-08 07:00:36    0\n",
        "2011-05-08 07:10:36    0\n",
        "2011-05-08 07:20:36    0\n",
        "2011-05-08 07:30:36    0\n",
        "2011-05-08 07:40:36    0\n",
        "2011-05-08 07:50:36    0\n",
        "2011-05-08 08:00:36    0\n",
        "2011-05-08 08:10:36    0\n",
        "2011-05-08 08:20:36    0\n",
        "Name: Rain(TOT), Length: 66"
       ]
      }
     ],
     "prompt_number": 41
    },
    {
     "cell_type": "heading",
     "level": 3,
     "metadata": {},
     "source": [
      "As well as these ones"
     ]
    },
    {
     "cell_type": "code",
     "collapsed": false,
     "input": [
      "data['Rain(TOT)']['2010-11-18 22:00:00':'2010-11-19 22:00:00']"
     ],
     "language": "python",
     "metadata": {},
     "outputs": [
      {
       "metadata": {},
       "output_type": "pyout",
       "prompt_number": 42,
       "text": [
        "2010-11-19 01:35:42    47.2\n",
        "2010-11-19 01:45:42    47.2\n",
        "2010-11-19 01:55:42    47.2\n",
        "2010-11-19 02:05:42    47.2\n",
        "2010-11-19 02:15:42    47.2\n",
        "2010-11-19 02:25:42    47.0\n",
        "2010-11-19 02:35:42    47.0\n",
        "2010-11-19 02:45:42    47.0\n",
        "2010-11-19 02:55:42    47.0\n",
        "2010-11-19 03:05:42    47.0\n",
        "2010-11-19 03:15:42    47.0\n",
        "2010-11-19 03:25:42    47.0\n",
        "2010-11-19 03:35:42    47.0\n",
        "2010-11-19 03:45:42    47.0\n",
        "2010-11-19 03:55:42    47.0\n",
        "...\n",
        "2010-11-19 19:35:42    1.4\n",
        "2010-11-19 19:45:42    1.2\n",
        "2010-11-19 19:55:42    1.0\n",
        "2010-11-19 20:05:42    0.8\n",
        "2010-11-19 20:15:42    0.6\n",
        "2010-11-19 20:25:42    0.2\n",
        "2010-11-19 20:35:42    0.4\n",
        "2010-11-19 20:45:42    0.2\n",
        "2010-11-19 20:55:42    0.2\n",
        "2010-11-19 21:05:42    0.0\n",
        "2010-11-19 21:15:42    0.0\n",
        "2010-11-19 21:25:42    0.0\n",
        "2010-11-19 21:35:42    0.0\n",
        "2010-11-19 21:45:42    0.0\n",
        "2010-11-19 21:55:42    0.0\n",
        "Name: Rain(TOT), Length: 123"
       ]
      }
     ],
     "prompt_number": 42
    },
    {
     "cell_type": "code",
     "collapsed": false,
     "input": [
      "data['Rain(TOT)']['2010-11-18'] # note that there are NO values for this date"
     ],
     "language": "python",
     "metadata": {},
     "outputs": [
      {
       "metadata": {},
       "output_type": "pyout",
       "prompt_number": 43,
       "text": [
        "Series([], name: Rain(TOT), dtype: float64)"
       ]
      }
     ],
     "prompt_number": 43
    },
    {
     "cell_type": "heading",
     "level": 3,
     "metadata": {},
     "source": [
      "So we just get rid of all instances with more than 45 mm / 10 mn"
     ]
    },
    {
     "cell_type": "code",
     "collapsed": false,
     "input": [
      "data['Rain(TOT)'][data['Rain(TOT)'] >= 45] = np.nan"
     ],
     "language": "python",
     "metadata": {},
     "outputs": [],
     "prompt_number": 44
    },
    {
     "cell_type": "heading",
     "level": 3,
     "metadata": {},
     "source": [
      "Note that we cannot create a fixed frequency index, as the times at which the station was operated changed (presumably after maintenance)"
     ]
    },
    {
     "cell_type": "code",
     "collapsed": false,
     "input": [
      "#start = data.index[0]\n",
      "#end = data.index[-1]\n",
      "#index = pd.date_range(start=start, end=end, freq='10min')\n",
      "#data = data.reindex(index)"
     ],
     "language": "python",
     "metadata": {},
     "outputs": [],
     "prompt_number": 45
    },
    {
     "cell_type": "code",
     "collapsed": false,
     "input": [
      "data = data.resample('10min', how='sum')"
     ],
     "language": "python",
     "metadata": {},
     "outputs": [],
     "prompt_number": 46
    },
    {
     "cell_type": "code",
     "collapsed": false,
     "input": [
      "start = data.index[0]\n",
      "end = data.index[-1]\n",
      "index = pd.date_range(start=start, end=end, freq='10min')\n",
      "data = data.reindex(index)"
     ],
     "language": "python",
     "metadata": {},
     "outputs": [],
     "prompt_number": 47
    },
    {
     "cell_type": "code",
     "collapsed": false,
     "input": [
      "len(data)"
     ],
     "language": "python",
     "metadata": {},
     "outputs": [
      {
       "metadata": {},
       "output_type": "pyout",
       "prompt_number": 48,
       "text": [
        "202213"
       ]
      }
     ],
     "prompt_number": 48
    },
    {
     "cell_type": "code",
     "collapsed": false,
     "input": [
      "data['Rain(TOT)'].plot()"
     ],
     "language": "python",
     "metadata": {},
     "outputs": [
      {
       "metadata": {},
       "output_type": "pyout",
       "prompt_number": 49,
       "text": [
        "<matplotlib.axes.AxesSubplot at 0x9062910>"
       ]
      },
      {
       "metadata": {},
       "output_type": "display_data",
       "png": "[encoded data removed]",
       "text": [
        "<matplotlib.figure.Figure at 0x9047190>"
       ]
      }
     ],
     "prompt_number": 49
    },
    {
     "cell_type": "heading",
     "level": 3,
     "metadata": {},
     "source": [
      "daily maximum 10 mn rainfall"
     ]
    },
    {
     "cell_type": "code",
     "collapsed": false,
     "input": [
      "daily_max = data['Rain(TOT)'].resample('D', how='max')"
     ],
     "language": "python",
     "metadata": {},
     "outputs": [],
     "prompt_number": 50
    },
    {
     "cell_type": "code",
     "collapsed": false,
     "input": [
      "daily_max.head()"
     ],
     "language": "python",
     "metadata": {},
     "outputs": [
      {
       "metadata": {},
       "output_type": "pyout",
       "prompt_number": 51,
       "text": [
        "2010-07-02    0.4\n",
        "2010-07-03    0.2\n",
        "2010-07-04    0.0\n",
        "2010-07-05    1.2\n",
        "2010-07-06    0.0\n",
        "Freq: D, Name: Rain(TOT), dtype: float64"
       ]
      }
     ],
     "prompt_number": 51
    },
    {
     "cell_type": "code",
     "collapsed": false,
     "input": [
      "len(daily_max)"
     ],
     "language": "python",
     "metadata": {},
     "outputs": [
      {
       "metadata": {},
       "output_type": "pyout",
       "prompt_number": 52,
       "text": [
        "1405"
       ]
      }
     ],
     "prompt_number": 52
    },
    {
     "cell_type": "heading",
     "level": 3,
     "metadata": {},
     "source": [
      "resample the raw data to hourly rainfall (the sum of the rainfall is taken, 2010-07-02 10:00:00 means rainfall total from 10AM to 11AM)"
     ]
    },
    {
     "cell_type": "code",
     "collapsed": false,
     "input": [
      "from astroML.plotting import hist"
     ],
     "language": "python",
     "metadata": {},
     "outputs": [],
     "prompt_number": 53
    },
    {
     "cell_type": "code",
     "collapsed": false,
     "input": [
      "hourly_rain = data['Rain(TOT)'].resample('H', how='sum')"
     ],
     "language": "python",
     "metadata": {},
     "outputs": [],
     "prompt_number": 54
    },
    {
     "cell_type": "code",
     "collapsed": false,
     "input": [
      "daily_max.hist()"
     ],
     "language": "python",
     "metadata": {},
     "outputs": [
      {
       "metadata": {},
       "output_type": "pyout",
       "prompt_number": 55,
       "text": [
        "<matplotlib.axes.AxesSubplot at 0xbd0e750>"
       ]
      },
      {
       "metadata": {},
       "output_type": "display_data",
       "png": "[encoded data removed]",
       "text": [
        "<matplotlib.figure.Figure at 0x4e96790>"
       ]
      }
     ],
     "prompt_number": 55
    },
    {
     "cell_type": "code",
     "collapsed": false,
     "input": [
      "hourly_rain.max()"
     ],
     "language": "python",
     "metadata": {},
     "outputs": [
      {
       "metadata": {},
       "output_type": "pyout",
       "prompt_number": 56,
       "text": [
        "156.79999999999998"
       ]
      }
     ],
     "prompt_number": 56
    },
    {
     "cell_type": "heading",
     "level": 4,
     "metadata": {},
     "source": [
      "To put things in perspective, the Most rainfall ever recorded in one hour: 305 mm (12.0 in) in 42 minutes. Holt, Missouri, United States, 22 June 1947."
     ]
    },
    {
     "cell_type": "code",
     "collapsed": false,
     "input": [
      "hourly_rain[hourly_rain==hourly_rain.max()]"
     ],
     "language": "python",
     "metadata": {},
     "outputs": [
      {
       "metadata": {},
       "output_type": "pyout",
       "prompt_number": 57,
       "text": [
        "2012-12-13 15:00:00    156.8\n",
        "Freq: H, Name: Rain(TOT), dtype: float64"
       ]
      }
     ],
     "prompt_number": 57
    },
    {
     "cell_type": "code",
     "collapsed": false,
     "input": [
      "hourly_rain.hist()"
     ],
     "language": "python",
     "metadata": {},
     "outputs": [
      {
       "metadata": {},
       "output_type": "pyout",
       "prompt_number": 58,
       "text": [
        "<matplotlib.axes.AxesSubplot at 0x39e9090>"
       ]
      },
      {
       "metadata": {},
       "output_type": "display_data",
       "png": "[encoded data removed]",
       "text": [
        "<matplotlib.figure.Figure at 0x8e55d90>"
       ]
      }
     ],
     "prompt_number": 58
    },
    {
     "cell_type": "heading",
     "level": 3,
     "metadata": {},
     "source": [
      "This peak looks legit "
     ]
    },
    {
     "cell_type": "code",
     "collapsed": false,
     "input": [
      "f, ax = plt.subplots(figsize=(10,6))\n",
      "#data['Rain(TOT)']['2012-12-13'].plot(lw=2, ax =ax)\n",
      "dates = data['Rain(TOT)']['2012-12-13'].index\n",
      "values = data['Rain(TOT)']['2012-12-13'].values\n",
      "ax.fill_between(dates, 0, values)\n",
      "[l.set_fontsize(13) for l in ax.xaxis.get_ticklabels()]\n",
      "[l.set_fontsize(13) for l in ax.yaxis.get_ticklabels()]\n",
      "ax.set_title('10 mn rainfall on 2012-12-13',fontsize=14)\n",
      "ax.set_ylabel('mm', fontsize=12)\n",
      "ax.set_xlabel('time', fontsize=12)\n",
      "f.savefig('../figures/Rainfall_Afiamalu_2012-12-13.png', dpi=200)"
     ],
     "language": "python",
     "metadata": {},
     "outputs": [
      {
       "metadata": {},
       "output_type": "display_data",
       "png": "[encoded data removed]",
       "text": [
        "<matplotlib.figure.Figure at 0xbd25410>"
       ]
      }
     ],
     "prompt_number": 59
    },
    {
     "cell_type": "code",
     "collapsed": false,
     "input": [
      "daily_max.max()"
     ],
     "language": "python",
     "metadata": {},
     "outputs": [
      {
       "metadata": {},
       "output_type": "pyout",
       "prompt_number": 60,
       "text": [
        "33.399999999999999"
       ]
      }
     ],
     "prompt_number": 60
    },
    {
     "cell_type": "heading",
     "level": 3,
     "metadata": {},
     "source": [
      "It corresponds to a maximum recorded of 33 mm in 10 mn, during TC EVAN"
     ]
    },
    {
     "cell_type": "code",
     "collapsed": false,
     "input": [
      "daily_max[daily_max == daily_max.max()]"
     ],
     "language": "python",
     "metadata": {},
     "outputs": [
      {
       "metadata": {},
       "output_type": "pyout",
       "prompt_number": 61,
       "text": [
        "2012-12-13    33.4\n",
        "Freq: D, Name: Rain(TOT), dtype: float64"
       ]
      }
     ],
     "prompt_number": 61
    },
    {
     "cell_type": "heading",
     "level": 3,
     "metadata": {},
     "source": [
      "Calculate the frequency / amount table "
     ]
    },
    {
     "cell_type": "code",
     "collapsed": false,
     "input": [
      "freqs_def = ['10min', '20min', '30min', '1H', '3H', '6H', '12H', '24H', '36H', '48H']\n",
      "bins = [-1,0.01,10] + np.arange(20, 160, 10).tolist()"
     ],
     "language": "python",
     "metadata": {},
     "outputs": [],
     "prompt_number": 84
    },
    {
     "cell_type": "code",
     "collapsed": false,
     "input": [
      "freq_table = np.zeros((len(freqs_def), len(bins)))"
     ],
     "language": "python",
     "metadata": {},
     "outputs": [],
     "prompt_number": 85
    },
    {
     "cell_type": "code",
     "collapsed": false,
     "input": [
      "for i, freq in enumerate(freqs_def):\n",
      "    table = data['Rain(TOT)'].resample(freq, how='sum')\n",
      "    table = table.dropna()\n",
      "    table = pd.cut(table, bins)\n",
      "    freq_values = pd.value_counts(table) / pd.value_counts(table).sum() * 100.\n",
      "    freq_values = freq_values.values\n",
      "    freq_table[i,0:len(freq_values)] = freq_values"
     ],
     "language": "python",
     "metadata": {},
     "outputs": [],
     "prompt_number": 86
    },
    {
     "cell_type": "code",
     "collapsed": false,
     "input": [
      "freq_table = np.array(freq_table)"
     ],
     "language": "python",
     "metadata": {},
     "outputs": [],
     "prompt_number": 87
    },
    {
     "cell_type": "code",
     "collapsed": false,
     "input": [
      "#freq_table = ma.masked_values(freq_table, 0)"
     ],
     "language": "python",
     "metadata": {},
     "outputs": [],
     "prompt_number": 88
    },
    {
     "cell_type": "code",
     "collapsed": false,
     "input": [
      "# build the columns labels\n",
      "columns = np.array(bins)[1:]\n",
      "bins = []\n",
      "for i in xrange(len(columns)-1): \n",
      "    bins.append(\"(%4.2f - %4.2f]\" % (columns[i],columns[i+1]))\n",
      "bins = ['0'] + bins + ['> 150']"
     ],
     "language": "python",
     "metadata": {},
     "outputs": [],
     "prompt_number": 89
    },
    {
     "cell_type": "code",
     "collapsed": false,
     "input": [
      "freq_table = pd.DataFrame(freq_table, index=freqs_def, columns=bins)"
     ],
     "language": "python",
     "metadata": {},
     "outputs": [],
     "prompt_number": 90
    },
    {
     "cell_type": "code",
     "collapsed": false,
     "input": [
      "freq_table"
     ],
     "language": "python",
     "metadata": {},
     "outputs": [
      {
       "html": [
        "<div style=\"max-height:1000px;max-width:1500px;overflow:auto;\">\n",
        "<table border=\"1\" class=\"dataframe\">\n",
        "  <thead>\n",
        "    <tr style=\"text-align: right;\">\n",
        "      <th></th>\n",
        "      <th>0</th>\n",
        "      <th>(0.01 - 10.00]</th>\n",
        "      <th>(10.00 - 20.00]</th>\n",
        "      <th>(20.00 - 30.00]</th>\n",
        "      <th>(30.00 - 40.00]</th>\n",
        "      <th>(40.00 - 50.00]</th>\n",
        "      <th>(50.00 - 60.00]</th>\n",
        "      <th>(60.00 - 70.00]</th>\n",
        "      <th>(70.00 - 80.00]</th>\n",
        "      <th>(80.00 - 90.00]</th>\n",
        "      <th>(90.00 - 100.00]</th>\n",
        "      <th>(100.00 - 110.00]</th>\n",
        "      <th>(110.00 - 120.00]</th>\n",
        "      <th>(120.00 - 130.00]</th>\n",
        "      <th>(130.00 - 140.00]</th>\n",
        "      <th>(140.00 - 150.00]</th>\n",
        "      <th>&gt; 150</th>\n",
        "    </tr>\n",
        "  </thead>\n",
        "  <tbody>\n",
        "    <tr>\n",
        "      <th>10min</th>\n",
        "      <td> 91.401118</td>\n",
        "      <td>  8.514717</td>\n",
        "      <td>  0.078905</td>\n",
        "      <td>  0.003507</td>\n",
        "      <td> 0.001753</td>\n",
        "      <td> 0.000000</td>\n",
        "      <td> 0.000000</td>\n",
        "      <td> 0.000000</td>\n",
        "      <td> 0.000000</td>\n",
        "      <td> 0.000000</td>\n",
        "      <td> 0.000000</td>\n",
        "      <td> 0.000000</td>\n",
        "      <td> 0.000000</td>\n",
        "      <td> 0.000000</td>\n",
        "      <td> 0.000000</td>\n",
        "      <td> 0.000000</td>\n",
        "      <td> 0</td>\n",
        "    </tr>\n",
        "    <tr>\n",
        "      <th>20min</th>\n",
        "      <td> 88.407795</td>\n",
        "      <td> 11.261567</td>\n",
        "      <td>  0.267548</td>\n",
        "      <td>  0.054912</td>\n",
        "      <td> 0.004673</td>\n",
        "      <td> 0.002337</td>\n",
        "      <td> 0.001168</td>\n",
        "      <td> 0.000000</td>\n",
        "      <td> 0.000000</td>\n",
        "      <td> 0.000000</td>\n",
        "      <td> 0.000000</td>\n",
        "      <td> 0.000000</td>\n",
        "      <td> 0.000000</td>\n",
        "      <td> 0.000000</td>\n",
        "      <td> 0.000000</td>\n",
        "      <td> 0.000000</td>\n",
        "      <td> 0</td>\n",
        "    </tr>\n",
        "    <tr>\n",
        "      <th>30min</th>\n",
        "      <td> 86.127461</td>\n",
        "      <td> 13.201598</td>\n",
        "      <td>  0.508023</td>\n",
        "      <td>  0.119123</td>\n",
        "      <td> 0.033284</td>\n",
        "      <td> 0.007007</td>\n",
        "      <td> 0.001752</td>\n",
        "      <td> 0.001752</td>\n",
        "      <td> 0.000000</td>\n",
        "      <td> 0.000000</td>\n",
        "      <td> 0.000000</td>\n",
        "      <td> 0.000000</td>\n",
        "      <td> 0.000000</td>\n",
        "      <td> 0.000000</td>\n",
        "      <td> 0.000000</td>\n",
        "      <td> 0.000000</td>\n",
        "      <td> 0</td>\n",
        "    </tr>\n",
        "    <tr>\n",
        "      <th>1H</th>\n",
        "      <td> 80.903520</td>\n",
        "      <td> 17.440028</td>\n",
        "      <td>  1.134652</td>\n",
        "      <td>  0.308177</td>\n",
        "      <td> 0.143583</td>\n",
        "      <td> 0.035020</td>\n",
        "      <td> 0.014008</td>\n",
        "      <td> 0.014008</td>\n",
        "      <td> 0.007004</td>\n",
        "      <td> 0.000000</td>\n",
        "      <td> 0.000000</td>\n",
        "      <td> 0.000000</td>\n",
        "      <td> 0.000000</td>\n",
        "      <td> 0.000000</td>\n",
        "      <td> 0.000000</td>\n",
        "      <td> 0.000000</td>\n",
        "      <td> 0</td>\n",
        "    </tr>\n",
        "    <tr>\n",
        "      <th>3H</th>\n",
        "      <td> 67.743627</td>\n",
        "      <td> 26.885555</td>\n",
        "      <td>  3.084024</td>\n",
        "      <td>  0.996538</td>\n",
        "      <td> 0.587433</td>\n",
        "      <td> 0.304206</td>\n",
        "      <td> 0.167838</td>\n",
        "      <td> 0.104899</td>\n",
        "      <td> 0.052449</td>\n",
        "      <td> 0.031470</td>\n",
        "      <td> 0.031470</td>\n",
        "      <td> 0.010490</td>\n",
        "      <td> 0.000000</td>\n",
        "      <td> 0.000000</td>\n",
        "      <td> 0.000000</td>\n",
        "      <td> 0.000000</td>\n",
        "      <td> 0</td>\n",
        "    </tr>\n",
        "    <tr>\n",
        "      <th>6H</th>\n",
        "      <td> 56.035205</td>\n",
        "      <td> 33.906119</td>\n",
        "      <td>  4.903604</td>\n",
        "      <td>  2.095557</td>\n",
        "      <td> 1.131601</td>\n",
        "      <td> 0.712490</td>\n",
        "      <td> 0.544845</td>\n",
        "      <td> 0.188600</td>\n",
        "      <td> 0.146689</td>\n",
        "      <td> 0.146689</td>\n",
        "      <td> 0.104778</td>\n",
        "      <td> 0.041911</td>\n",
        "      <td> 0.020956</td>\n",
        "      <td> 0.020956</td>\n",
        "      <td> 0.000000</td>\n",
        "      <td> 0.000000</td>\n",
        "      <td> 0</td>\n",
        "    </tr>\n",
        "    <tr>\n",
        "      <th>12H</th>\n",
        "      <td> 40.903388</td>\n",
        "      <td> 40.276035</td>\n",
        "      <td>  7.737348</td>\n",
        "      <td>  4.098703</td>\n",
        "      <td> 2.007528</td>\n",
        "      <td> 1.714764</td>\n",
        "      <td> 1.296529</td>\n",
        "      <td> 0.501882</td>\n",
        "      <td> 0.334588</td>\n",
        "      <td> 0.292765</td>\n",
        "      <td> 0.250941</td>\n",
        "      <td> 0.250941</td>\n",
        "      <td> 0.125471</td>\n",
        "      <td> 0.083647</td>\n",
        "      <td> 0.083647</td>\n",
        "      <td> 0.041824</td>\n",
        "      <td> 0</td>\n",
        "    </tr>\n",
        "    <tr>\n",
        "      <th>24H</th>\n",
        "      <td> 42.821159</td>\n",
        "      <td> 23.845508</td>\n",
        "      <td> 12.090680</td>\n",
        "      <td>  7.304786</td>\n",
        "      <td> 4.366079</td>\n",
        "      <td> 3.106633</td>\n",
        "      <td> 2.015113</td>\n",
        "      <td> 1.511335</td>\n",
        "      <td> 0.671704</td>\n",
        "      <td> 0.503778</td>\n",
        "      <td> 0.503778</td>\n",
        "      <td> 0.335852</td>\n",
        "      <td> 0.335852</td>\n",
        "      <td> 0.251889</td>\n",
        "      <td> 0.251889</td>\n",
        "      <td> 0.083963</td>\n",
        "      <td> 0</td>\n",
        "    </tr>\n",
        "    <tr>\n",
        "      <th>36H</th>\n",
        "      <td> 40.609137</td>\n",
        "      <td> 17.005076</td>\n",
        "      <td> 12.690355</td>\n",
        "      <td>  7.614213</td>\n",
        "      <td> 6.091371</td>\n",
        "      <td> 5.964467</td>\n",
        "      <td> 3.807107</td>\n",
        "      <td> 2.030457</td>\n",
        "      <td> 1.142132</td>\n",
        "      <td> 0.761421</td>\n",
        "      <td> 0.507614</td>\n",
        "      <td> 0.507614</td>\n",
        "      <td> 0.380711</td>\n",
        "      <td> 0.380711</td>\n",
        "      <td> 0.380711</td>\n",
        "      <td> 0.126904</td>\n",
        "      <td> 0</td>\n",
        "    </tr>\n",
        "    <tr>\n",
        "      <th>48H</th>\n",
        "      <td> 35.144312</td>\n",
        "      <td> 13.752122</td>\n",
        "      <td> 12.733447</td>\n",
        "      <td> 11.035654</td>\n",
        "      <td> 7.640068</td>\n",
        "      <td> 4.923599</td>\n",
        "      <td> 4.753820</td>\n",
        "      <td> 2.376910</td>\n",
        "      <td> 1.867572</td>\n",
        "      <td> 1.358234</td>\n",
        "      <td> 1.358234</td>\n",
        "      <td> 0.848896</td>\n",
        "      <td> 0.679117</td>\n",
        "      <td> 0.679117</td>\n",
        "      <td> 0.509338</td>\n",
        "      <td> 0.339559</td>\n",
        "      <td> 0</td>\n",
        "    </tr>\n",
        "  </tbody>\n",
        "</table>\n",
        "<p>10 rows \u00d7 17 columns</p>\n",
        "</div>"
       ],
       "metadata": {},
       "output_type": "pyout",
       "prompt_number": 91,
       "text": [
        "               0  (0.01 - 10.00]  (10.00 - 20.00]  (20.00 - 30.00]  \\\n",
        "10min  91.401118        8.514717         0.078905         0.003507   \n",
        "20min  88.407795       11.261567         0.267548         0.054912   \n",
        "30min  86.127461       13.201598         0.508023         0.119123   \n",
        "1H     80.903520       17.440028         1.134652         0.308177   \n",
        "3H     67.743627       26.885555         3.084024         0.996538   \n",
        "6H     56.035205       33.906119         4.903604         2.095557   \n",
        "12H    40.903388       40.276035         7.737348         4.098703   \n",
        "24H    42.821159       23.845508        12.090680         7.304786   \n",
        "36H    40.609137       17.005076        12.690355         7.614213   \n",
        "48H    35.144312       13.752122        12.733447        11.035654   \n",
        "\n",
        "       (30.00 - 40.00]  (40.00 - 50.00]  (50.00 - 60.00]  (60.00 - 70.00]  \\\n",
        "10min         0.001753         0.000000         0.000000         0.000000   \n",
        "20min         0.004673         0.002337         0.001168         0.000000   \n",
        "30min         0.033284         0.007007         0.001752         0.001752   \n",
        "1H            0.143583         0.035020         0.014008         0.014008   \n",
        "3H            0.587433         0.304206         0.167838         0.104899   \n",
        "6H            1.131601         0.712490         0.544845         0.188600   \n",
        "12H           2.007528         1.714764         1.296529         0.501882   \n",
        "24H           4.366079         3.106633         2.015113         1.511335   \n",
        "36H           6.091371         5.964467         3.807107         2.030457   \n",
        "48H           7.640068         4.923599         4.753820         2.376910   \n",
        "\n",
        "       (70.00 - 80.00]  (80.00 - 90.00]  (90.00 - 100.00]  (100.00 - 110.00]  \\\n",
        "10min         0.000000         0.000000          0.000000           0.000000   \n",
        "20min         0.000000         0.000000          0.000000           0.000000   \n",
        "30min         0.000000         0.000000          0.000000           0.000000   \n",
        "1H            0.007004         0.000000          0.000000           0.000000   \n",
        "3H            0.052449         0.031470          0.031470           0.010490   \n",
        "6H            0.146689         0.146689          0.104778           0.041911   \n",
        "12H           0.334588         0.292765          0.250941           0.250941   \n",
        "24H           0.671704         0.503778          0.503778           0.335852   \n",
        "36H           1.142132         0.761421          0.507614           0.507614   \n",
        "48H           1.867572         1.358234          1.358234           0.848896   \n",
        "\n",
        "       (110.00 - 120.00]  (120.00 - 130.00]  (130.00 - 140.00]  \\\n",
        "10min           0.000000           0.000000           0.000000   \n",
        "20min           0.000000           0.000000           0.000000   \n",
        "30min           0.000000           0.000000           0.000000   \n",
        "1H              0.000000           0.000000           0.000000   \n",
        "3H              0.000000           0.000000           0.000000   \n",
        "6H              0.020956           0.020956           0.000000   \n",
        "12H             0.125471           0.083647           0.083647   \n",
        "24H             0.335852           0.251889           0.251889   \n",
        "36H             0.380711           0.380711           0.380711   \n",
        "48H             0.679117           0.679117           0.509338   \n",
        "\n",
        "       (140.00 - 150.00]  > 150  \n",
        "10min           0.000000      0  \n",
        "20min           0.000000      0  \n",
        "30min           0.000000      0  \n",
        "1H              0.000000      0  \n",
        "3H              0.000000      0  \n",
        "6H              0.000000      0  \n",
        "12H             0.041824      0  \n",
        "24H             0.083963      0  \n",
        "36H             0.126904      0  \n",
        "48H             0.339559      0  \n",
        "\n",
        "[10 rows x 17 columns]"
       ]
      }
     ],
     "prompt_number": 91
    },
    {
     "cell_type": "code",
     "collapsed": false,
     "input": [
      "from matplotlib.colors import LogNorm\n",
      "#freq_table[freq_table==0] = 10e-10\n",
      "f, ax = plt.subplots(figsize=(10,8))\n",
      "plt.subplots_adjust(bottom=0.2)\n",
      "cmap = plt.get_cmap('Blues')\n",
      "#im = ax.imshow(freq_table, aspect='auto', norm=LogNorm(vmin=freq_table.min().min(), vmax=freq_table.max().max()), \\\n",
      "#          cmap=cmap, interpolation='nearest')\n",
      "im = ax.imshow(freq_table, aspect='auto', cmap=cmap, interpolation='nearest', vmin=0, vmax=100)\n",
      "ax.set_yticks(np.arange(freq_table.shape[0]))\n",
      "ax.set_yticklabels(freqs_def)\n",
      "ax.set_xticks(np.arange(freq_table.shape[1]))\n",
      "ax.set_xticklabels(bins, rotation=90)\n",
      "ax.set_xlabel('rainfall amount') \n",
      "ax.set_ylabel('duration')\n",
      "ax.xaxis.grid('off', lw=0)\n",
      "ax.yaxis.grid('off', lw=0)\n",
      "[ax.axvline(x, color='0.8') for x in np.arange(-0.5,freq_table.shape[1]-0.5)]\n",
      "[ax.axhline(x, color='0.8') for x in np.arange(-0.5,freq_table.shape[0]-0.5)]\n",
      "\n",
      "cb = plt.colorbar(im, boundaries=np.arange(0,100+10,10), drawedges=True)\n",
      "cb.set_label('%')\n",
      "\n",
      "f.savefig('../figures/table_freq_Afiamalu.png')"
     ],
     "language": "python",
     "metadata": {},
     "outputs": [
      {
       "metadata": {},
       "output_type": "display_data",
       "png": "[encoded data removed]",
       "text": [
        "<matplotlib.figure.Figure at 0xa899b50>"
       ]
      }
     ],
     "prompt_number": 92
    },
    {
     "cell_type": "code",
     "collapsed": false,
     "input": [
      "freq_table.to_csv('../outputs/frequency_intensity_table_Afiamalu.csv')"
     ],
     "language": "python",
     "metadata": {},
     "outputs": [],
     "prompt_number": 64
    },
    {
     "cell_type": "code",
     "collapsed": false,
     "input": [
      "from mpl_toolkits.mplot3d import Axes3D"
     ],
     "language": "python",
     "metadata": {},
     "outputs": [],
     "prompt_number": 67
    },
    {
     "cell_type": "code",
     "collapsed": false,
     "input": [
      "y = np.arange(0.5,freq_table.shape[0]+0.5)\n",
      "x = np.arange(0.5,freq_table.shape[1]+0.5)\n",
      "X,Y = np.meshgrid(x,y)\n",
      "Z = freq_table.values"
     ],
     "language": "python",
     "metadata": {},
     "outputs": [],
     "prompt_number": 65
    },
    {
     "cell_type": "code",
     "collapsed": false,
     "input": [
      "f = plt.figure(figsize=(10,10))\n",
      "ax = f.add_subplot(111, projection='3d')\n",
      "plt.subplots_adjust(bottom=0.25)\n",
      "surf = ax.plot_surface(X, Y, Z, rstride=1, cstride=1, cmap=plt.cm.jet,\n",
      "        linewidth=0, antialiased=True, alpha=0.8)\n",
      "ax.view_init(elev=20., azim=310)\n",
      "ax.set_yticks(np.arange(0.5,11.5))\n",
      "ax.set_yticklabels(freqs_def, rotation=90)\n",
      "ax.set_xticklabels(bins, rotation=90)\n",
      "#ax.set_ylabel('duration')\n",
      "#ax.set_xlabel('amount (mm)')\n",
      "ax.set_zlabel('%')\n",
      "ax.set_title('rainfall frequency table for Afiamalu')\n",
      "f.savefig('../figures/essai3D_surface.png', dpi=300)\n",
      "#ax.bar(y, x, zs=Z, zdir='y', alpha=0.8)"
     ],
     "language": "python",
     "metadata": {},
     "outputs": [
      {
       "metadata": {},
       "output_type": "display_data",
       "png": "[encoded data removed]",
       "text": [
        "<matplotlib.figure.Figure at 0xb499410>"
       ]
      }
     ],
     "prompt_number": 80
    },
    {
     "cell_type": "heading",
     "level": 3,
     "metadata": {},
     "source": [
      "Now investigate the runs (consecutive events) of respectively wet spells and dry spells for different durationsm3"
     ]
    },
    {
     "cell_type": "heading",
     "level": 4,
     "metadata": {},
     "source": [
      "One hour rainfall"
     ]
    },
    {
     "cell_type": "code",
     "collapsed": false,
     "input": [
      "def get_runs(data, varname, thresh = 0.0, event = 'dry', freq = '24H', how = 'sum'):\n",
      "    table = data[varname].resample(freq, how = how)\n",
      "    bits = table.copy()\n",
      "    if event == 'dry':\n",
      "        bits[bits <= thresh] = 1\n",
      "    elif event == 'wet': \n",
      "        bits[bits > thresh] = 1\n",
      "    bits = bits.values == 1\n",
      "    bounded = np.hstack(([0], bits, [0]))\n",
      "    difs = np.diff(bounded)\n",
      "    run_starts, = np.where(difs > 0)\n",
      "    run_ends, = np.where(difs < 0)\n",
      "    duration = run_ends - run_starts\n",
      "    run_ends -= 1\n",
      "    t_run_starts = table.index[run_starts].to_pydatetime()\n",
      "    t_run_ends = table.index[run_ends].to_pydatetime()\n",
      "    \n",
      "    persistence = pd.DataFrame({'run_starts':run_starts,'date_starts':t_run_starts, 'run_ends':run_ends,\\\n",
      "                                'date_ends':t_run_ends, 'duration':duration})\n",
      "    # sorts the table\n",
      "    persistence = persistence[['run_starts','date_starts','run_ends','date_ends','duration']]\n",
      "    #persistence = pd.DataFrame(np.c_[run_starts, t_run_starts, run_ends,t_run_ends, duration], \\\n",
      "    #                           columns = ['run_starts', 'date_starts', 'run_ends', 'date_ends', 'duration'])\n",
      "    return table, persistence "
     ],
     "language": "python",
     "metadata": {},
     "outputs": [],
     "prompt_number": 106
    },
    {
     "cell_type": "code",
     "collapsed": false,
     "input": [
      "table, persistence = get_runs(data, 'Rain(TOT)', thresh = 0.5, event='wet')"
     ],
     "language": "python",
     "metadata": {},
     "outputs": [],
     "prompt_number": 107
    },
    {
     "cell_type": "code",
     "collapsed": false,
     "input": [
      "freq_table = persistence['duration'].value_counts().sort_index(1)"
     ],
     "language": "python",
     "metadata": {},
     "outputs": [],
     "prompt_number": 108
    },
    {
     "cell_type": "code",
     "collapsed": false,
     "input": [
      "freq_table = pd.DataFrame(np.c_[freq_table.index.values, freq_table.values], columns = ['duration', 'occurences'])"
     ],
     "language": "python",
     "metadata": {},
     "outputs": [],
     "prompt_number": 109
    },
    {
     "cell_type": "code",
     "collapsed": false,
     "input": [
      "freq_table.T.to_csv('../outputs/daily_wet_events_Afiamalu.csv',header=False)"
     ],
     "language": "python",
     "metadata": {},
     "outputs": [],
     "prompt_number": 110
    },
    {
     "cell_type": "code",
     "collapsed": false,
     "input": [
      "freq_table.T"
     ],
     "language": "python",
     "metadata": {},
     "outputs": [
      {
       "html": [
        "<div style=\"max-height:1000px;max-width:1500px;overflow:auto;\">\n",
        "<table border=\"1\" class=\"dataframe\">\n",
        "  <thead>\n",
        "    <tr style=\"text-align: right;\">\n",
        "      <th></th>\n",
        "      <th>0</th>\n",
        "      <th>1</th>\n",
        "      <th>2</th>\n",
        "      <th>3</th>\n",
        "      <th>4</th>\n",
        "      <th>5</th>\n",
        "      <th>6</th>\n",
        "      <th>7</th>\n",
        "      <th>8</th>\n",
        "      <th>9</th>\n",
        "      <th>10</th>\n",
        "      <th>11</th>\n",
        "      <th>12</th>\n",
        "      <th>13</th>\n",
        "      <th>14</th>\n",
        "      <th>15</th>\n",
        "      <th>16</th>\n",
        "      <th>17</th>\n",
        "      <th>18</th>\n",
        "      <th>19</th>\n",
        "      <th></th>\n",
        "    </tr>\n",
        "  </thead>\n",
        "  <tbody>\n",
        "    <tr>\n",
        "      <th>duration</th>\n",
        "      <td>  1</td>\n",
        "      <td>  2</td>\n",
        "      <td>  3</td>\n",
        "      <td>  4</td>\n",
        "      <td>  5</td>\n",
        "      <td> 6</td>\n",
        "      <td> 7</td>\n",
        "      <td> 8</td>\n",
        "      <td> 9</td>\n",
        "      <td> 10</td>\n",
        "      <td> 11</td>\n",
        "      <td> 12</td>\n",
        "      <td> 13</td>\n",
        "      <td> 14</td>\n",
        "      <td> 15</td>\n",
        "      <td> 16</td>\n",
        "      <td> 18</td>\n",
        "      <td> 20</td>\n",
        "      <td> 21</td>\n",
        "      <td> 23</td>\n",
        "      <td>...</td>\n",
        "    </tr>\n",
        "    <tr>\n",
        "      <th>occurences</th>\n",
        "      <td> 56</td>\n",
        "      <td> 44</td>\n",
        "      <td> 22</td>\n",
        "      <td> 27</td>\n",
        "      <td> 13</td>\n",
        "      <td> 9</td>\n",
        "      <td> 5</td>\n",
        "      <td> 4</td>\n",
        "      <td> 3</td>\n",
        "      <td>  2</td>\n",
        "      <td>  2</td>\n",
        "      <td>  2</td>\n",
        "      <td>  2</td>\n",
        "      <td>  1</td>\n",
        "      <td>  1</td>\n",
        "      <td>  1</td>\n",
        "      <td>  1</td>\n",
        "      <td>  2</td>\n",
        "      <td>  1</td>\n",
        "      <td>  1</td>\n",
        "      <td>...</td>\n",
        "    </tr>\n",
        "  </tbody>\n",
        "</table>\n",
        "<p>2 rows \u00d7 21 columns</p>\n",
        "</div>"
       ],
       "metadata": {},
       "output_type": "pyout",
       "prompt_number": 105,
       "text": [
        "            0   1   2   3   4   5   6   7   8   9   10  11  12  13  14  15  \\\n",
        "duration     1   2   3   4   5   6   7   8   9  10  11  12  13  14  15  16   \n",
        "occurences  56  44  22  27  13   9   5   4   3   2   2   2   2   1   1   1   \n",
        "\n",
        "            16  17  18  19      \n",
        "duration    18  20  21  23 ...  \n",
        "occurences   1   2   1   1 ...  \n",
        "\n",
        "[2 rows x 21 columns]"
       ]
      }
     ],
     "prompt_number": 105
    },
    {
     "cell_type": "code",
     "collapsed": false,
     "input": [],
     "language": "python",
     "metadata": {},
     "outputs": []
    }
   ],
   "metadata": {}
  }
 ]
}