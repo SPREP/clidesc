{
 "metadata": {
  "name": "",
  "signature": "sha256:fa98cd3548a610b76c340de90bd104ddf5b02e2a50f76890001e28ede6f437a5"
 },
 "nbformat": 3,
 "nbformat_minor": 0,
 "worksheets": [
  {
   "cells": [
    {
     "cell_type": "code",
     "collapsed": false,
     "input": [
      "import numpy as np\n",
      "from matplotlib import pyplot as plt\n",
      "import pandas as pd\n",
      "from datetime import datetime\n",
      "import seaborn as sb"
     ],
     "language": "python",
     "metadata": {},
     "outputs": [],
     "prompt_number": 198
    },
    {
     "cell_type": "code",
     "collapsed": false,
     "input": [
      "# minimum number of days for calculating a monthly mean \n",
      "minvals = 20\n",
      "\n",
      "def calcmonsum(x):\n",
      "    if pd.isnull(x).sum() <= minvals:\n",
      "        z = x.sum()\n",
      "    else: \n",
      "        z = np.NaN\n",
      "    return z       "
     ],
     "language": "python",
     "metadata": {},
     "outputs": [],
     "prompt_number": 199
    },
    {
     "cell_type": "code",
     "collapsed": false,
     "input": [
      "%matplotlib inline"
     ],
     "language": "python",
     "metadata": {},
     "outputs": [],
     "prompt_number": 200
    },
    {
     "cell_type": "code",
     "collapsed": false,
     "input": [
      "iData = pd.read_csv('../data/table_rain24h.csv', index_col=['lsd'], parse_dates=True)"
     ],
     "language": "python",
     "metadata": {},
     "outputs": [],
     "prompt_number": 201
    },
    {
     "cell_type": "code",
     "collapsed": false,
     "input": [
      "iData.index.name = 'TimeStamp'"
     ],
     "language": "python",
     "metadata": {},
     "outputs": [],
     "prompt_number": 202
    },
    {
     "cell_type": "code",
     "collapsed": false,
     "input": [
      "iData.sort_index(inplace=True)"
     ],
     "language": "python",
     "metadata": {},
     "outputs": [],
     "prompt_number": 203
    },
    {
     "cell_type": "code",
     "collapsed": false,
     "input": [
      "from_date = iData.index[0].strftime(\"%Y-%m-%d\")"
     ],
     "language": "python",
     "metadata": {},
     "outputs": [],
     "prompt_number": 204
    },
    {
     "cell_type": "code",
     "collapsed": false,
     "input": [
      "to_date = iData.index[-1].strftime(\"%Y-%m-%d\")"
     ],
     "language": "python",
     "metadata": {},
     "outputs": [],
     "prompt_number": 205
    },
    {
     "cell_type": "code",
     "collapsed": false,
     "input": [
      "daterange = pd.period_range(start = from_date, end = to_date, freq = 'D').to_datetime()\n",
      "iData = iData.reindex(daterange)                                                                                                                                            "
     ],
     "language": "python",
     "metadata": {},
     "outputs": [],
     "prompt_number": 206
    },
    {
     "cell_type": "code",
     "collapsed": false,
     "input": [
      "iData.head()"
     ],
     "language": "python",
     "metadata": {},
     "outputs": [
      {
       "html": [
        "<div style=\"max-height:1000px;max-width:1500px;overflow:auto;\">\n",
        "<table border=\"1\" class=\"dataframe\">\n",
        "  <thead>\n",
        "    <tr style=\"text-align: right;\">\n",
        "      <th></th>\n",
        "      <th>station_no</th>\n",
        "      <th>rain_24h</th>\n",
        "    </tr>\n",
        "  </thead>\n",
        "  <tbody>\n",
        "    <tr>\n",
        "      <th>1968-01-06</th>\n",
        "      <td> 10001</td>\n",
        "      <td> 0</td>\n",
        "    </tr>\n",
        "    <tr>\n",
        "      <th>1968-01-07</th>\n",
        "      <td> 10001</td>\n",
        "      <td> 0</td>\n",
        "    </tr>\n",
        "    <tr>\n",
        "      <th>1968-01-08</th>\n",
        "      <td> 10001</td>\n",
        "      <td> 0</td>\n",
        "    </tr>\n",
        "    <tr>\n",
        "      <th>1968-01-09</th>\n",
        "      <td> 10001</td>\n",
        "      <td> 0</td>\n",
        "    </tr>\n",
        "    <tr>\n",
        "      <th>1968-01-10</th>\n",
        "      <td> 10001</td>\n",
        "      <td> 0</td>\n",
        "    </tr>\n",
        "  </tbody>\n",
        "</table>\n",
        "</div>"
       ],
       "metadata": {},
       "output_type": "pyout",
       "prompt_number": 207,
       "text": [
        "            station_no  rain_24h\n",
        "1968-01-06       10001         0\n",
        "1968-01-07       10001         0\n",
        "1968-01-08       10001         0\n",
        "1968-01-09       10001         0\n",
        "1968-01-10       10001         0"
       ]
      }
     ],
     "prompt_number": 207
    },
    {
     "cell_type": "code",
     "collapsed": false,
     "input": [
      "index = pd.date_range(start = datetime(iData.index.year[0], 1, 1), \\\n",
      "                     end = datetime(iData.index.year[-1], 12, 31), freq='1D')"
     ],
     "language": "python",
     "metadata": {},
     "outputs": [],
     "prompt_number": 208
    },
    {
     "cell_type": "code",
     "collapsed": false,
     "input": [
      "iData = iData.reindex(index)"
     ],
     "language": "python",
     "metadata": {},
     "outputs": [],
     "prompt_number": 209
    },
    {
     "cell_type": "code",
     "collapsed": false,
     "input": [
      "iData.head()"
     ],
     "language": "python",
     "metadata": {},
     "outputs": [
      {
       "html": [
        "<div style=\"max-height:1000px;max-width:1500px;overflow:auto;\">\n",
        "<table border=\"1\" class=\"dataframe\">\n",
        "  <thead>\n",
        "    <tr style=\"text-align: right;\">\n",
        "      <th></th>\n",
        "      <th>station_no</th>\n",
        "      <th>rain_24h</th>\n",
        "    </tr>\n",
        "  </thead>\n",
        "  <tbody>\n",
        "    <tr>\n",
        "      <th>1968-01-01</th>\n",
        "      <td>NaN</td>\n",
        "      <td>NaN</td>\n",
        "    </tr>\n",
        "    <tr>\n",
        "      <th>1968-01-02</th>\n",
        "      <td>NaN</td>\n",
        "      <td>NaN</td>\n",
        "    </tr>\n",
        "    <tr>\n",
        "      <th>1968-01-03</th>\n",
        "      <td>NaN</td>\n",
        "      <td>NaN</td>\n",
        "    </tr>\n",
        "    <tr>\n",
        "      <th>1968-01-04</th>\n",
        "      <td>NaN</td>\n",
        "      <td>NaN</td>\n",
        "    </tr>\n",
        "    <tr>\n",
        "      <th>1968-01-05</th>\n",
        "      <td>NaN</td>\n",
        "      <td>NaN</td>\n",
        "    </tr>\n",
        "  </tbody>\n",
        "</table>\n",
        "</div>"
       ],
       "metadata": {},
       "output_type": "pyout",
       "prompt_number": 210,
       "text": [
        "            station_no  rain_24h\n",
        "1968-01-01         NaN       NaN\n",
        "1968-01-02         NaN       NaN\n",
        "1968-01-03         NaN       NaN\n",
        "1968-01-04         NaN       NaN\n",
        "1968-01-05         NaN       NaN"
       ]
      }
     ],
     "prompt_number": 210
    },
    {
     "cell_type": "code",
     "collapsed": false,
     "input": [
      "mData = iData.groupby([iData.index.year, iData.index.month])[['rain_24h']].aggregate(calcmonsum)\n",
      "mData.index = [datetime(x[0],x[1],1) for x in mData.index.get_values()]"
     ],
     "language": "python",
     "metadata": {},
     "outputs": [],
     "prompt_number": 211
    },
    {
     "cell_type": "code",
     "collapsed": false,
     "input": [
      "mData.head()"
     ],
     "language": "python",
     "metadata": {},
     "outputs": [
      {
       "html": [
        "<div style=\"max-height:1000px;max-width:1500px;overflow:auto;\">\n",
        "<table border=\"1\" class=\"dataframe\">\n",
        "  <thead>\n",
        "    <tr style=\"text-align: right;\">\n",
        "      <th></th>\n",
        "      <th>rain_24h</th>\n",
        "    </tr>\n",
        "  </thead>\n",
        "  <tbody>\n",
        "    <tr>\n",
        "      <th>1968-01-01</th>\n",
        "      <td>NaN</td>\n",
        "    </tr>\n",
        "    <tr>\n",
        "      <th>1968-02-01</th>\n",
        "      <td>NaN</td>\n",
        "    </tr>\n",
        "    <tr>\n",
        "      <th>1968-03-01</th>\n",
        "      <td>NaN</td>\n",
        "    </tr>\n",
        "    <tr>\n",
        "      <th>1968-04-01</th>\n",
        "      <td>NaN</td>\n",
        "    </tr>\n",
        "    <tr>\n",
        "      <th>1968-05-01</th>\n",
        "      <td> 75</td>\n",
        "    </tr>\n",
        "  </tbody>\n",
        "</table>\n",
        "</div>"
       ],
       "metadata": {},
       "output_type": "pyout",
       "prompt_number": 212,
       "text": [
        "            rain_24h\n",
        "1968-01-01       NaN\n",
        "1968-02-01       NaN\n",
        "1968-03-01       NaN\n",
        "1968-04-01       NaN\n",
        "1968-05-01        75"
       ]
      }
     ],
     "prompt_number": 212
    },
    {
     "cell_type": "code",
     "collapsed": false,
     "input": [
      "clim = mData.groupby(mData.index.month).mean()"
     ],
     "language": "python",
     "metadata": {},
     "outputs": [],
     "prompt_number": 213
    },
    {
     "cell_type": "code",
     "collapsed": false,
     "input": [
      "mData['anoms'] =  mData - np.resize(clim.values, mData.shape)"
     ],
     "language": "python",
     "metadata": {},
     "outputs": [],
     "prompt_number": 214
    },
    {
     "cell_type": "code",
     "collapsed": false,
     "input": [
      "mData.head()"
     ],
     "language": "python",
     "metadata": {},
     "outputs": [
      {
       "html": [
        "<div style=\"max-height:1000px;max-width:1500px;overflow:auto;\">\n",
        "<table border=\"1\" class=\"dataframe\">\n",
        "  <thead>\n",
        "    <tr style=\"text-align: right;\">\n",
        "      <th></th>\n",
        "      <th>rain_24h</th>\n",
        "      <th>anoms</th>\n",
        "    </tr>\n",
        "  </thead>\n",
        "  <tbody>\n",
        "    <tr>\n",
        "      <th>1968-01-01</th>\n",
        "      <td>NaN</td>\n",
        "      <td>       NaN</td>\n",
        "    </tr>\n",
        "    <tr>\n",
        "      <th>1968-02-01</th>\n",
        "      <td>NaN</td>\n",
        "      <td>       NaN</td>\n",
        "    </tr>\n",
        "    <tr>\n",
        "      <th>1968-03-01</th>\n",
        "      <td>NaN</td>\n",
        "      <td>       NaN</td>\n",
        "    </tr>\n",
        "    <tr>\n",
        "      <th>1968-04-01</th>\n",
        "      <td>NaN</td>\n",
        "      <td>       NaN</td>\n",
        "    </tr>\n",
        "    <tr>\n",
        "      <th>1968-05-01</th>\n",
        "      <td> 75</td>\n",
        "      <td>-94.761111</td>\n",
        "    </tr>\n",
        "  </tbody>\n",
        "</table>\n",
        "</div>"
       ],
       "metadata": {},
       "output_type": "pyout",
       "prompt_number": 215,
       "text": [
        "            rain_24h      anoms\n",
        "1968-01-01       NaN        NaN\n",
        "1968-02-01       NaN        NaN\n",
        "1968-03-01       NaN        NaN\n",
        "1968-04-01       NaN        NaN\n",
        "1968-05-01        75 -94.761111"
       ]
      }
     ],
     "prompt_number": 215
    },
    {
     "cell_type": "code",
     "collapsed": false,
     "input": [
      "soi = pd.read_table('http://www.cgd.ucar.edu/cas/catalog/climind/SOI.signal.ascii', sep='\\s*', index_col=0, header=None, na_values=-99.9)"
     ],
     "language": "python",
     "metadata": {},
     "outputs": [],
     "prompt_number": 216
    },
    {
     "cell_type": "code",
     "collapsed": false,
     "input": [
      "soi = soi.stack(dropna=False)\n",
      "\n",
      "soi.index = [datetime(x[0],x[1],1) for x in soi.index.get_values()]"
     ],
     "language": "python",
     "metadata": {},
     "outputs": [],
     "prompt_number": 217
    },
    {
     "cell_type": "code",
     "collapsed": false,
     "input": [
      "soi.head()"
     ],
     "language": "python",
     "metadata": {},
     "outputs": [
      {
       "metadata": {},
       "output_type": "pyout",
       "prompt_number": 218,
       "text": [
        "1866-01-01   -1.2\n",
        "1866-02-01   -0.3\n",
        "1866-03-01   -1.0\n",
        "1866-04-01   -0.7\n",
        "1866-05-01    0.1\n",
        "dtype: float64"
       ]
      }
     ],
     "prompt_number": 218
    },
    {
     "cell_type": "code",
     "collapsed": false,
     "input": [
      "mData['soi'] = soi"
     ],
     "language": "python",
     "metadata": {},
     "outputs": [],
     "prompt_number": 219
    },
    {
     "cell_type": "code",
     "collapsed": false,
     "input": [
      "mData.head()"
     ],
     "language": "python",
     "metadata": {},
     "outputs": [
      {
       "html": [
        "<div style=\"max-height:1000px;max-width:1500px;overflow:auto;\">\n",
        "<table border=\"1\" class=\"dataframe\">\n",
        "  <thead>\n",
        "    <tr style=\"text-align: right;\">\n",
        "      <th></th>\n",
        "      <th>rain_24h</th>\n",
        "      <th>anoms</th>\n",
        "      <th>soi</th>\n",
        "    </tr>\n",
        "  </thead>\n",
        "  <tbody>\n",
        "    <tr>\n",
        "      <th>1968-01-01</th>\n",
        "      <td>NaN</td>\n",
        "      <td>       NaN</td>\n",
        "      <td> 0.6</td>\n",
        "    </tr>\n",
        "    <tr>\n",
        "      <th>1968-02-01</th>\n",
        "      <td>NaN</td>\n",
        "      <td>       NaN</td>\n",
        "      <td> 1.8</td>\n",
        "    </tr>\n",
        "    <tr>\n",
        "      <th>1968-03-01</th>\n",
        "      <td>NaN</td>\n",
        "      <td>       NaN</td>\n",
        "      <td>-0.8</td>\n",
        "    </tr>\n",
        "    <tr>\n",
        "      <th>1968-04-01</th>\n",
        "      <td>NaN</td>\n",
        "      <td>       NaN</td>\n",
        "      <td>-0.4</td>\n",
        "    </tr>\n",
        "    <tr>\n",
        "      <th>1968-05-01</th>\n",
        "      <td> 75</td>\n",
        "      <td>-94.761111</td>\n",
        "      <td> 1.9</td>\n",
        "    </tr>\n",
        "  </tbody>\n",
        "</table>\n",
        "</div>"
       ],
       "metadata": {},
       "output_type": "pyout",
       "prompt_number": 220,
       "text": [
        "            rain_24h      anoms  soi\n",
        "1968-01-01       NaN        NaN  0.6\n",
        "1968-02-01       NaN        NaN  1.8\n",
        "1968-03-01       NaN        NaN -0.8\n",
        "1968-04-01       NaN        NaN -0.4\n",
        "1968-05-01        75 -94.761111  1.9"
       ]
      }
     ],
     "prompt_number": 220
    },
    {
     "cell_type": "code",
     "collapsed": false,
     "input": [
      "seasData = pd.rolling_mean(mData[['anoms','soi']], 3, min_periods=2)"
     ],
     "language": "python",
     "metadata": {},
     "outputs": [],
     "prompt_number": 221
    },
    {
     "cell_type": "code",
     "collapsed": false,
     "input": [
      "groups = seasData.groupby(seasData.index.month)\n",
      "\n",
      "from scipy.stats import pearsonr\n",
      "\n",
      "R = []; P =[] \n",
      "for i in np.arange(1,13): \n",
      "    ds = groups.get_group(i)\n",
      "    ds = ds.dropna()\n",
      "    r, p = pearsonr(ds['anoms'], ds['soi'])\n",
      "    R.append(r)\n",
      "    P.append(p)\n",
      "R = np.array(R); P = np.array(P)\n"
     ],
     "language": "python",
     "metadata": {},
     "outputs": [],
     "prompt_number": 222
    },
    {
     "cell_type": "code",
     "collapsed": false,
     "input": [],
     "language": "python",
     "metadata": {},
     "outputs": [],
     "prompt_number": 222
    },
    {
     "cell_type": "code",
     "collapsed": false,
     "input": [],
     "language": "python",
     "metadata": {},
     "outputs": []
    }
   ],
   "metadata": {}
  }
 ]
}