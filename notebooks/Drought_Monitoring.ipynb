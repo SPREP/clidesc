{
 "metadata": {
  "name": "",
  "signature": "sha256:ec09443d1414233e428bff2947e65a9356d32e88a5bc7199cad8d1fe0078c1cb"
 },
 "nbformat": 3,
 "nbformat_minor": 0,
 "worksheets": [
  {
   "cells": [
    {
     "cell_type": "heading",
     "level": 1,
     "metadata": {},
     "source": [
      "drought monitoring tool for CLIDESC"
     ]
    },
    {
     "cell_type": "code",
     "collapsed": false,
     "input": [
      "import os, sys\n",
      "import numpy as np\n",
      "import pandas as pd\n",
      "import matplotlib.pyplot as plt\n",
      "from scipy import stats\n",
      "\n",
      "import datetime "
     ],
     "language": "python",
     "metadata": {},
     "outputs": [],
     "prompt_number": 1
    },
    {
     "cell_type": "code",
     "collapsed": false,
     "input": [
      "import matplotlib as mpl"
     ],
     "language": "python",
     "metadata": {},
     "outputs": [],
     "prompt_number": 2
    },
    {
     "cell_type": "code",
     "collapsed": false,
     "input": [
      "mpl.rcParams['axes.labelsize'] = 16\n",
      "mpl.rcParams['ytick.labelsize'] = 16\n",
      "mpl.rcParams['xtick.labelsize'] = 16"
     ],
     "language": "python",
     "metadata": {},
     "outputs": [],
     "prompt_number": 3
    },
    {
     "cell_type": "code",
     "collapsed": false,
     "input": [
      "%matplotlib inline"
     ],
     "language": "python",
     "metadata": {},
     "outputs": [],
     "prompt_number": 4
    },
    {
     "cell_type": "heading",
     "level": 3,
     "metadata": {},
     "source": [
      "defines the window and min periods here "
     ]
    },
    {
     "cell_type": "code",
     "collapsed": false,
     "input": [
      "window = 90\n",
      "min_periods = np.int(np.floor(0.6 * window))\n",
      "smooth_periods = np.int(np.floor(0.1 * window))"
     ],
     "language": "python",
     "metadata": {},
     "outputs": [],
     "prompt_number": 5
    },
    {
     "cell_type": "code",
     "collapsed": false,
     "input": [
      "data = pd.read_csv('/Users/nicolasf/Desktop/export_table.csv', header=0, index_col='lsd', parse_dates=True, dayfirst=True)"
     ],
     "language": "python",
     "metadata": {},
     "outputs": [],
     "prompt_number": 10
    },
    {
     "cell_type": "code",
     "collapsed": false,
     "input": [
      "data.head()"
     ],
     "language": "python",
     "metadata": {},
     "outputs": [
      {
       "html": [
        "<div style=\"max-height:1000px;max-width:1500px;overflow:auto;\">\n",
        "<table border=\"1\" class=\"dataframe\">\n",
        "  <thead>\n",
        "    <tr style=\"text-align: right;\">\n",
        "      <th></th>\n",
        "      <th>timestamp</th>\n",
        "      <th>station_no</th>\n",
        "      <th>rain_24h</th>\n",
        "    </tr>\n",
        "    <tr>\n",
        "      <th>lsd</th>\n",
        "      <th></th>\n",
        "      <th></th>\n",
        "      <th></th>\n",
        "    </tr>\n",
        "  </thead>\n",
        "  <tbody>\n",
        "    <tr>\n",
        "      <th>1972-01-01</th>\n",
        "      <td> 1972-01-01</td>\n",
        "      <td> 76200</td>\n",
        "      <td>  2.4</td>\n",
        "    </tr>\n",
        "    <tr>\n",
        "      <th>1972-01-02</th>\n",
        "      <td> 1972-01-02</td>\n",
        "      <td> 76200</td>\n",
        "      <td>  5.2</td>\n",
        "    </tr>\n",
        "    <tr>\n",
        "      <th>1972-01-03</th>\n",
        "      <td> 1972-01-03</td>\n",
        "      <td> 76200</td>\n",
        "      <td>  0.4</td>\n",
        "    </tr>\n",
        "    <tr>\n",
        "      <th>1972-01-04</th>\n",
        "      <td> 1972-01-04</td>\n",
        "      <td> 76200</td>\n",
        "      <td>  7.0</td>\n",
        "    </tr>\n",
        "    <tr>\n",
        "      <th>1972-01-05</th>\n",
        "      <td> 1972-01-05</td>\n",
        "      <td> 76200</td>\n",
        "      <td> 30.1</td>\n",
        "    </tr>\n",
        "  </tbody>\n",
        "</table>\n",
        "</div>"
       ],
       "metadata": {},
       "output_type": "pyout",
       "prompt_number": 11,
       "text": [
        "             timestamp  station_no  rain_24h\n",
        "lsd                                         \n",
        "1972-01-01  1972-01-01       76200       2.4\n",
        "1972-01-02  1972-01-02       76200       5.2\n",
        "1972-01-03  1972-01-03       76200       0.4\n",
        "1972-01-04  1972-01-04       76200       7.0\n",
        "1972-01-05  1972-01-05       76200      30.1"
       ]
      }
     ],
     "prompt_number": 11
    },
    {
     "cell_type": "code",
     "collapsed": false,
     "input": [
      "data.sort_index(inplace=True)"
     ],
     "language": "python",
     "metadata": {},
     "outputs": [],
     "prompt_number": 7
    },
    {
     "cell_type": "code",
     "collapsed": false,
     "input": [
      "data.drop(['station_no','timestamp'], axis=1, inplace=True)"
     ],
     "language": "python",
     "metadata": {},
     "outputs": [],
     "prompt_number": 13
    },
    {
     "cell_type": "code",
     "collapsed": false,
     "input": [
      "data.head()"
     ],
     "language": "python",
     "metadata": {},
     "outputs": [
      {
       "html": [
        "<div style=\"max-height:1000px;max-width:1500px;overflow:auto;\">\n",
        "<table border=\"1\" class=\"dataframe\">\n",
        "  <thead>\n",
        "    <tr style=\"text-align: right;\">\n",
        "      <th></th>\n",
        "      <th>rain_24h</th>\n",
        "    </tr>\n",
        "    <tr>\n",
        "      <th>lsd</th>\n",
        "      <th></th>\n",
        "    </tr>\n",
        "  </thead>\n",
        "  <tbody>\n",
        "    <tr>\n",
        "      <th>1972-01-01</th>\n",
        "      <td>  2.4</td>\n",
        "    </tr>\n",
        "    <tr>\n",
        "      <th>1972-01-02</th>\n",
        "      <td>  5.2</td>\n",
        "    </tr>\n",
        "    <tr>\n",
        "      <th>1972-01-03</th>\n",
        "      <td>  0.4</td>\n",
        "    </tr>\n",
        "    <tr>\n",
        "      <th>1972-01-04</th>\n",
        "      <td>  7.0</td>\n",
        "    </tr>\n",
        "    <tr>\n",
        "      <th>1972-01-05</th>\n",
        "      <td> 30.1</td>\n",
        "    </tr>\n",
        "  </tbody>\n",
        "</table>\n",
        "</div>"
       ],
       "metadata": {},
       "output_type": "pyout",
       "prompt_number": 14,
       "text": [
        "            rain_24h\n",
        "lsd                 \n",
        "1972-01-01       2.4\n",
        "1972-01-02       5.2\n",
        "1972-01-03       0.4\n",
        "1972-01-04       7.0\n",
        "1972-01-05      30.1"
       ]
      }
     ],
     "prompt_number": 14
    },
    {
     "cell_type": "code",
     "collapsed": false,
     "input": [
      "tindex = pd.date_range(start=min(data.index), end=max(data.index))"
     ],
     "language": "python",
     "metadata": {},
     "outputs": [],
     "prompt_number": 15
    },
    {
     "cell_type": "heading",
     "level": 3,
     "metadata": {},
     "source": [
      "creates a continuous time index for the data"
     ]
    },
    {
     "cell_type": "code",
     "collapsed": false,
     "input": [
      "data = data.reindex(tindex)"
     ],
     "language": "python",
     "metadata": {},
     "outputs": [],
     "prompt_number": 16
    },
    {
     "cell_type": "heading",
     "level": 3,
     "metadata": {},
     "source": [
      "rolling sum over window"
     ]
    },
    {
     "cell_type": "code",
     "collapsed": false,
     "input": [
      "datars = pd.rolling_sum(data, window, min_periods=min_periods)"
     ],
     "language": "python",
     "metadata": {},
     "outputs": [],
     "prompt_number": 17
    },
    {
     "cell_type": "heading",
     "level": 3,
     "metadata": {},
     "source": [
      "monthly means from data"
     ]
    },
    {
     "cell_type": "code",
     "collapsed": false,
     "input": [
      "datam = data[['rain_24h']].resample('1M', how='sum')"
     ],
     "language": "python",
     "metadata": {},
     "outputs": [],
     "prompt_number": 18
    },
    {
     "cell_type": "code",
     "collapsed": false,
     "input": [
      "datam.head()"
     ],
     "language": "python",
     "metadata": {},
     "outputs": [
      {
       "html": [
        "<div style=\"max-height:1000px;max-width:1500px;overflow:auto;\">\n",
        "<table border=\"1\" class=\"dataframe\">\n",
        "  <thead>\n",
        "    <tr style=\"text-align: right;\">\n",
        "      <th></th>\n",
        "      <th>rain_24h</th>\n",
        "    </tr>\n",
        "    <tr>\n",
        "      <th>lsd</th>\n",
        "      <th></th>\n",
        "    </tr>\n",
        "  </thead>\n",
        "  <tbody>\n",
        "    <tr>\n",
        "      <th>1972-01-31</th>\n",
        "      <td> 540.1</td>\n",
        "    </tr>\n",
        "    <tr>\n",
        "      <th>1972-02-29</th>\n",
        "      <td> 204.4</td>\n",
        "    </tr>\n",
        "    <tr>\n",
        "      <th>1972-03-31</th>\n",
        "      <td> 364.8</td>\n",
        "    </tr>\n",
        "    <tr>\n",
        "      <th>1972-04-30</th>\n",
        "      <td> 269.7</td>\n",
        "    </tr>\n",
        "    <tr>\n",
        "      <th>1972-05-31</th>\n",
        "      <td>  70.2</td>\n",
        "    </tr>\n",
        "  </tbody>\n",
        "</table>\n",
        "</div>"
       ],
       "metadata": {},
       "output_type": "pyout",
       "prompt_number": 19,
       "text": [
        "            rain_24h\n",
        "lsd                 \n",
        "1972-01-31     540.1\n",
        "1972-02-29     204.4\n",
        "1972-03-31     364.8\n",
        "1972-04-30     269.7\n",
        "1972-05-31      70.2"
       ]
      }
     ],
     "prompt_number": 19
    },
    {
     "cell_type": "code",
     "collapsed": false,
     "input": [
      "datam.columns = [['monthly means']]"
     ],
     "language": "python",
     "metadata": {},
     "outputs": [],
     "prompt_number": 20
    },
    {
     "cell_type": "code",
     "collapsed": false,
     "input": [
      "datam.head()"
     ],
     "language": "python",
     "metadata": {},
     "outputs": [
      {
       "html": [
        "<div style=\"max-height:1000px;max-width:1500px;overflow:auto;\">\n",
        "<table border=\"1\" class=\"dataframe\">\n",
        "  <thead>\n",
        "    <tr style=\"text-align: right;\">\n",
        "      <th></th>\n",
        "      <th>monthly means</th>\n",
        "    </tr>\n",
        "    <tr>\n",
        "      <th>lsd</th>\n",
        "      <th></th>\n",
        "    </tr>\n",
        "  </thead>\n",
        "  <tbody>\n",
        "    <tr>\n",
        "      <th>1972-01-31</th>\n",
        "      <td> 540.1</td>\n",
        "    </tr>\n",
        "    <tr>\n",
        "      <th>1972-02-29</th>\n",
        "      <td> 204.4</td>\n",
        "    </tr>\n",
        "    <tr>\n",
        "      <th>1972-03-31</th>\n",
        "      <td> 364.8</td>\n",
        "    </tr>\n",
        "    <tr>\n",
        "      <th>1972-04-30</th>\n",
        "      <td> 269.7</td>\n",
        "    </tr>\n",
        "    <tr>\n",
        "      <th>1972-05-31</th>\n",
        "      <td>  70.2</td>\n",
        "    </tr>\n",
        "  </tbody>\n",
        "</table>\n",
        "</div>"
       ],
       "metadata": {},
       "output_type": "pyout",
       "prompt_number": 21,
       "text": [
        "            monthly means\n",
        "lsd                      \n",
        "1972-01-31          540.1\n",
        "1972-02-29          204.4\n",
        "1972-03-31          364.8\n",
        "1972-04-30          269.7\n",
        "1972-05-31           70.2"
       ]
      }
     ],
     "prompt_number": 21
    },
    {
     "cell_type": "code",
     "collapsed": false,
     "input": [
      "normal = ['1972-01-01','2012-12-31']"
     ],
     "language": "python",
     "metadata": {},
     "outputs": [],
     "prompt_number": 22
    },
    {
     "cell_type": "code",
     "collapsed": false,
     "input": [
      "normals = datars[normal[0]:normal[-1]]"
     ],
     "language": "python",
     "metadata": {},
     "outputs": [],
     "prompt_number": 23
    },
    {
     "cell_type": "code",
     "collapsed": false,
     "input": [
      "normals['year'] = normals.index.year\n",
      "normals['month'] = normals.index.month\n",
      "normals['day'] = normals.index.day"
     ],
     "language": "python",
     "metadata": {},
     "outputs": [],
     "prompt_number": 24
    },
    {
     "cell_type": "code",
     "collapsed": false,
     "input": [
      "datars['year'] = datars.index.year\n",
      "datars['month'] = datars.index.month\n",
      "datars['day'] = datars.index.day"
     ],
     "language": "python",
     "metadata": {},
     "outputs": [],
     "prompt_number": 25
    },
    {
     "cell_type": "code",
     "collapsed": false,
     "input": [
      "normals.head()"
     ],
     "language": "python",
     "metadata": {},
     "outputs": [
      {
       "html": [
        "<div style=\"max-height:1000px;max-width:1500px;overflow:auto;\">\n",
        "<table border=\"1\" class=\"dataframe\">\n",
        "  <thead>\n",
        "    <tr style=\"text-align: right;\">\n",
        "      <th></th>\n",
        "      <th>rain_24h</th>\n",
        "      <th>year</th>\n",
        "      <th>month</th>\n",
        "      <th>day</th>\n",
        "    </tr>\n",
        "    <tr>\n",
        "      <th>lsd</th>\n",
        "      <th></th>\n",
        "      <th></th>\n",
        "      <th></th>\n",
        "      <th></th>\n",
        "    </tr>\n",
        "  </thead>\n",
        "  <tbody>\n",
        "    <tr>\n",
        "      <th>1972-01-01</th>\n",
        "      <td>NaN</td>\n",
        "      <td> 1972</td>\n",
        "      <td> 1</td>\n",
        "      <td> 1</td>\n",
        "    </tr>\n",
        "    <tr>\n",
        "      <th>1972-01-02</th>\n",
        "      <td>NaN</td>\n",
        "      <td> 1972</td>\n",
        "      <td> 1</td>\n",
        "      <td> 2</td>\n",
        "    </tr>\n",
        "    <tr>\n",
        "      <th>1972-01-03</th>\n",
        "      <td>NaN</td>\n",
        "      <td> 1972</td>\n",
        "      <td> 1</td>\n",
        "      <td> 3</td>\n",
        "    </tr>\n",
        "    <tr>\n",
        "      <th>1972-01-04</th>\n",
        "      <td>NaN</td>\n",
        "      <td> 1972</td>\n",
        "      <td> 1</td>\n",
        "      <td> 4</td>\n",
        "    </tr>\n",
        "    <tr>\n",
        "      <th>1972-01-05</th>\n",
        "      <td>NaN</td>\n",
        "      <td> 1972</td>\n",
        "      <td> 1</td>\n",
        "      <td> 5</td>\n",
        "    </tr>\n",
        "  </tbody>\n",
        "</table>\n",
        "</div>"
       ],
       "metadata": {},
       "output_type": "pyout",
       "prompt_number": 26,
       "text": [
        "            rain_24h  year  month  day\n",
        "lsd                                   \n",
        "1972-01-01       NaN  1972      1    1\n",
        "1972-01-02       NaN  1972      1    2\n",
        "1972-01-03       NaN  1972      1    3\n",
        "1972-01-04       NaN  1972      1    4\n",
        "1972-01-05       NaN  1972      1    5"
       ]
      }
     ],
     "prompt_number": 26
    },
    {
     "cell_type": "heading",
     "level": 3,
     "metadata": {},
     "source": [
      "calculates a Monthly climatology"
     ]
    },
    {
     "cell_type": "code",
     "collapsed": false,
     "input": [
      "mclim = data['rain_24h'].resample('1M', how='sum')"
     ],
     "language": "python",
     "metadata": {},
     "outputs": [],
     "prompt_number": 27
    },
    {
     "cell_type": "code",
     "collapsed": false,
     "input": [
      "mclim = mclim.groupby(mclim.index.month).mean()"
     ],
     "language": "python",
     "metadata": {},
     "outputs": [],
     "prompt_number": 28
    },
    {
     "cell_type": "code",
     "collapsed": false,
     "input": [
      "def plot_rainfall_clim(mclim, station_name): \n",
      "    \"\"\"\n",
      "    plots a rainfall climatology for a station\n",
      "    \n",
      "    parameters\n",
      "    -------\n",
      "    mclim : Pandas.Series object\n",
      "        as returned from `x.groupby(x.index.month).mean()`\n",
      "    station_name : str\n",
      "        station name\n",
      "        \n",
      "    returns\n",
      "    -------\n",
      "    f : matplotlib figure object\n",
      "        the figure handle (to save with `f.savefig(outfile)`)\n",
      "    \"\"\"\n",
      "    f, ax = plt.subplots(figsize=(6,6))\n",
      "    ax.bar(np.arange(len(mclim)), mclim.values, color='steelblue',width=1, edgecolor='b')\n",
      "    ax.set_xticks(np.arange(0.5, len(mclim) + 0.5))\n",
      "    ax.set_xticklabels(list('JFMAMJJASOND'))\n",
      "    ax.set_ylabel('Rainfall (mm)') \n",
      "    #ax.set_xlim(-0.11, 12.1)\n",
      "    ax.yaxis.grid('on')\n",
      "    ax.set_title(station_name, fontsize=16)\n",
      "    return f"
     ],
     "language": "python",
     "metadata": {},
     "outputs": [],
     "prompt_number": 29
    },
    {
     "cell_type": "code",
     "collapsed": false,
     "input": [
      "f = plot_rainfall_clim(mclim, 'Asau')"
     ],
     "language": "python",
     "metadata": {},
     "outputs": [
      {
       "metadata": {},
       "output_type": "display_data",
       "png": "[encoded data removed]",
       "text": [
        "<matplotlib.figure.Figure at 0x1039bfc50>"
       ]
      }
     ],
     "prompt_number": 30
    },
    {
     "cell_type": "heading",
     "level": 2,
     "metadata": {},
     "source": [
      "Much more simpler: express anomalies in terms of percentage of normal and plot horiz. lines "
     ]
    },
    {
     "cell_type": "code",
     "collapsed": false,
     "input": [
      "clim = normals.groupby(['month','day'])[['rain_24h']].mean()\n",
      "#clim = normals.groupby(['month','day'])['rain_24h'].quantile(0.5)"
     ],
     "language": "python",
     "metadata": {},
     "outputs": [],
     "prompt_number": 31
    },
    {
     "cell_type": "code",
     "collapsed": false,
     "input": [
      "#clim = pd.DataFrame(clim)"
     ],
     "language": "python",
     "metadata": {},
     "outputs": [],
     "prompt_number": 32
    },
    {
     "cell_type": "code",
     "collapsed": false,
     "input": [
      "clim.head()"
     ],
     "language": "python",
     "metadata": {},
     "outputs": [
      {
       "html": [
        "<div style=\"max-height:1000px;max-width:1500px;overflow:auto;\">\n",
        "<table border=\"1\" class=\"dataframe\">\n",
        "  <thead>\n",
        "    <tr style=\"text-align: right;\">\n",
        "      <th></th>\n",
        "      <th></th>\n",
        "      <th>rain_24h</th>\n",
        "    </tr>\n",
        "    <tr>\n",
        "      <th>month</th>\n",
        "      <th>day</th>\n",
        "      <th></th>\n",
        "    </tr>\n",
        "  </thead>\n",
        "  <tbody>\n",
        "    <tr>\n",
        "      <th rowspan=\"5\" valign=\"top\">1</th>\n",
        "      <th>1</th>\n",
        "      <td> 851.4800</td>\n",
        "    </tr>\n",
        "    <tr>\n",
        "      <th>2</th>\n",
        "      <td> 857.9100</td>\n",
        "    </tr>\n",
        "    <tr>\n",
        "      <th>3</th>\n",
        "      <td> 868.0975</td>\n",
        "    </tr>\n",
        "    <tr>\n",
        "      <th>4</th>\n",
        "      <td> 877.6175</td>\n",
        "    </tr>\n",
        "    <tr>\n",
        "      <th>5</th>\n",
        "      <td> 879.6425</td>\n",
        "    </tr>\n",
        "  </tbody>\n",
        "</table>\n",
        "</div>"
       ],
       "metadata": {},
       "output_type": "pyout",
       "prompt_number": 33,
       "text": [
        "           rain_24h\n",
        "month day          \n",
        "1     1    851.4800\n",
        "      2    857.9100\n",
        "      3    868.0975\n",
        "      4    877.6175\n",
        "      5    879.6425"
       ]
      }
     ],
     "prompt_number": 33
    },
    {
     "cell_type": "code",
     "collapsed": false,
     "input": [
      "clim['month'] = clim.index.get_level_values(0)\n",
      "clim['day'] = clim.index.get_level_values(1)"
     ],
     "language": "python",
     "metadata": {},
     "outputs": [],
     "prompt_number": 34
    },
    {
     "cell_type": "code",
     "collapsed": false,
     "input": [
      "merged_df_mean = pd.merge(datars, clim, how='left', on=['month','day'])"
     ],
     "language": "python",
     "metadata": {},
     "outputs": [],
     "prompt_number": 35
    },
    {
     "cell_type": "code",
     "collapsed": false,
     "input": [
      "merged_df_mean.head()"
     ],
     "language": "python",
     "metadata": {},
     "outputs": [
      {
       "html": [
        "<div style=\"max-height:1000px;max-width:1500px;overflow:auto;\">\n",
        "<table border=\"1\" class=\"dataframe\">\n",
        "  <thead>\n",
        "    <tr style=\"text-align: right;\">\n",
        "      <th></th>\n",
        "      <th>rain_24h_x</th>\n",
        "      <th>year</th>\n",
        "      <th>month</th>\n",
        "      <th>day</th>\n",
        "      <th>rain_24h_y</th>\n",
        "    </tr>\n",
        "  </thead>\n",
        "  <tbody>\n",
        "    <tr>\n",
        "      <th>0</th>\n",
        "      <td>    NaN</td>\n",
        "      <td> 1972</td>\n",
        "      <td> 1</td>\n",
        "      <td> 1</td>\n",
        "      <td> 851.48</td>\n",
        "    </tr>\n",
        "    <tr>\n",
        "      <th>1</th>\n",
        "      <td> 1206.3</td>\n",
        "      <td> 1973</td>\n",
        "      <td> 1</td>\n",
        "      <td> 1</td>\n",
        "      <td> 851.48</td>\n",
        "    </tr>\n",
        "    <tr>\n",
        "      <th>2</th>\n",
        "      <td> 1778.2</td>\n",
        "      <td> 1974</td>\n",
        "      <td> 1</td>\n",
        "      <td> 1</td>\n",
        "      <td> 851.48</td>\n",
        "    </tr>\n",
        "    <tr>\n",
        "      <th>3</th>\n",
        "      <td> 1471.0</td>\n",
        "      <td> 1975</td>\n",
        "      <td> 1</td>\n",
        "      <td> 1</td>\n",
        "      <td> 851.48</td>\n",
        "    </tr>\n",
        "    <tr>\n",
        "      <th>4</th>\n",
        "      <td>  744.2</td>\n",
        "      <td> 1976</td>\n",
        "      <td> 1</td>\n",
        "      <td> 1</td>\n",
        "      <td> 851.48</td>\n",
        "    </tr>\n",
        "  </tbody>\n",
        "</table>\n",
        "</div>"
       ],
       "metadata": {},
       "output_type": "pyout",
       "prompt_number": 36,
       "text": [
        "   rain_24h_x  year  month  day  rain_24h_y\n",
        "0         NaN  1972      1    1      851.48\n",
        "1      1206.3  1973      1    1      851.48\n",
        "2      1778.2  1974      1    1      851.48\n",
        "3      1471.0  1975      1    1      851.48\n",
        "4       744.2  1976      1    1      851.48"
       ]
      }
     ],
     "prompt_number": 36
    },
    {
     "cell_type": "code",
     "collapsed": false,
     "input": [
      "merged_df_mean = merged_df_mean.sort(['year','month','day'], axis=0)"
     ],
     "language": "python",
     "metadata": {},
     "outputs": [],
     "prompt_number": 37
    },
    {
     "cell_type": "code",
     "collapsed": false,
     "input": [
      "merged_df_mean.columns = ['rain_24h', 'year', 'month','day', 'clim']"
     ],
     "language": "python",
     "metadata": {},
     "outputs": [],
     "prompt_number": 38
    },
    {
     "cell_type": "heading",
     "level": 3,
     "metadata": {},
     "source": [
      "calculates the anomalies"
     ]
    },
    {
     "cell_type": "code",
     "collapsed": false,
     "input": [
      "merged_df_mean['anomalies'] = (merged_df_mean['rain_24h'] / merged_df_mean['clim']) * 100."
     ],
     "language": "python",
     "metadata": {},
     "outputs": [],
     "prompt_number": 39
    },
    {
     "cell_type": "code",
     "collapsed": false,
     "input": [
      "merged_df_mean.head()"
     ],
     "language": "python",
     "metadata": {},
     "outputs": [
      {
       "html": [
        "<div style=\"max-height:1000px;max-width:1500px;overflow:auto;\">\n",
        "<table border=\"1\" class=\"dataframe\">\n",
        "  <thead>\n",
        "    <tr style=\"text-align: right;\">\n",
        "      <th></th>\n",
        "      <th>rain_24h</th>\n",
        "      <th>year</th>\n",
        "      <th>month</th>\n",
        "      <th>day</th>\n",
        "      <th>clim</th>\n",
        "      <th>anomalies</th>\n",
        "    </tr>\n",
        "  </thead>\n",
        "  <tbody>\n",
        "    <tr>\n",
        "      <th>0  </th>\n",
        "      <td>NaN</td>\n",
        "      <td> 1972</td>\n",
        "      <td> 1</td>\n",
        "      <td> 1</td>\n",
        "      <td> 851.4800</td>\n",
        "      <td>NaN</td>\n",
        "    </tr>\n",
        "    <tr>\n",
        "      <th>43 </th>\n",
        "      <td>NaN</td>\n",
        "      <td> 1972</td>\n",
        "      <td> 1</td>\n",
        "      <td> 2</td>\n",
        "      <td> 857.9100</td>\n",
        "      <td>NaN</td>\n",
        "    </tr>\n",
        "    <tr>\n",
        "      <th>86 </th>\n",
        "      <td>NaN</td>\n",
        "      <td> 1972</td>\n",
        "      <td> 1</td>\n",
        "      <td> 3</td>\n",
        "      <td> 868.0975</td>\n",
        "      <td>NaN</td>\n",
        "    </tr>\n",
        "    <tr>\n",
        "      <th>129</th>\n",
        "      <td>NaN</td>\n",
        "      <td> 1972</td>\n",
        "      <td> 1</td>\n",
        "      <td> 4</td>\n",
        "      <td> 877.6175</td>\n",
        "      <td>NaN</td>\n",
        "    </tr>\n",
        "    <tr>\n",
        "      <th>172</th>\n",
        "      <td>NaN</td>\n",
        "      <td> 1972</td>\n",
        "      <td> 1</td>\n",
        "      <td> 5</td>\n",
        "      <td> 879.6425</td>\n",
        "      <td>NaN</td>\n",
        "    </tr>\n",
        "  </tbody>\n",
        "</table>\n",
        "</div>"
       ],
       "metadata": {},
       "output_type": "pyout",
       "prompt_number": 40,
       "text": [
        "     rain_24h  year  month  day      clim  anomalies\n",
        "0         NaN  1972      1    1  851.4800        NaN\n",
        "43        NaN  1972      1    2  857.9100        NaN\n",
        "86        NaN  1972      1    3  868.0975        NaN\n",
        "129       NaN  1972      1    4  877.6175        NaN\n",
        "172       NaN  1972      1    5  879.6425        NaN"
       ]
      }
     ],
     "prompt_number": 40
    },
    {
     "cell_type": "code",
     "collapsed": false,
     "input": [
      "merged_df_mean.index = datars.index"
     ],
     "language": "python",
     "metadata": {},
     "outputs": [],
     "prompt_number": 41
    },
    {
     "cell_type": "code",
     "collapsed": false,
     "input": [
      "merged_df_mean['monthly means'] = datam['monthly means']"
     ],
     "language": "python",
     "metadata": {},
     "outputs": [],
     "prompt_number": 42
    },
    {
     "cell_type": "code",
     "collapsed": false,
     "input": [
      "merged_df_mean['monthly means'].fillna(method='bfill', inplace=True)"
     ],
     "language": "python",
     "metadata": {},
     "outputs": [],
     "prompt_number": 43
    },
    {
     "cell_type": "code",
     "collapsed": false,
     "input": [
      "subsetper = merged_df_mean['2012-01-01'::]"
     ],
     "language": "python",
     "metadata": {},
     "outputs": [],
     "prompt_number": 44
    },
    {
     "cell_type": "code",
     "collapsed": false,
     "input": [
      "subsetper.head()"
     ],
     "language": "python",
     "metadata": {},
     "outputs": [
      {
       "html": [
        "<div style=\"max-height:1000px;max-width:1500px;overflow:auto;\">\n",
        "<table border=\"1\" class=\"dataframe\">\n",
        "  <thead>\n",
        "    <tr style=\"text-align: right;\">\n",
        "      <th></th>\n",
        "      <th>rain_24h</th>\n",
        "      <th>year</th>\n",
        "      <th>month</th>\n",
        "      <th>day</th>\n",
        "      <th>clim</th>\n",
        "      <th>anomalies</th>\n",
        "      <th>monthly means</th>\n",
        "    </tr>\n",
        "    <tr>\n",
        "      <th>lsd</th>\n",
        "      <th></th>\n",
        "      <th></th>\n",
        "      <th></th>\n",
        "      <th></th>\n",
        "      <th></th>\n",
        "      <th></th>\n",
        "      <th></th>\n",
        "    </tr>\n",
        "  </thead>\n",
        "  <tbody>\n",
        "    <tr>\n",
        "      <th>2012-01-01</th>\n",
        "      <td> 1140.4</td>\n",
        "      <td> 2012</td>\n",
        "      <td> 1</td>\n",
        "      <td> 1</td>\n",
        "      <td> 851.4800</td>\n",
        "      <td> 133.931507</td>\n",
        "      <td> 449</td>\n",
        "    </tr>\n",
        "    <tr>\n",
        "      <th>2012-01-02</th>\n",
        "      <td> 1151.2</td>\n",
        "      <td> 2012</td>\n",
        "      <td> 1</td>\n",
        "      <td> 2</td>\n",
        "      <td> 857.9100</td>\n",
        "      <td> 134.186570</td>\n",
        "      <td> 449</td>\n",
        "    </tr>\n",
        "    <tr>\n",
        "      <th>2012-01-03</th>\n",
        "      <td> 1220.0</td>\n",
        "      <td> 2012</td>\n",
        "      <td> 1</td>\n",
        "      <td> 3</td>\n",
        "      <td> 868.0975</td>\n",
        "      <td> 140.537209</td>\n",
        "      <td> 449</td>\n",
        "    </tr>\n",
        "    <tr>\n",
        "      <th>2012-01-04</th>\n",
        "      <td> 1233.0</td>\n",
        "      <td> 2012</td>\n",
        "      <td> 1</td>\n",
        "      <td> 4</td>\n",
        "      <td> 877.6175</td>\n",
        "      <td> 140.494008</td>\n",
        "      <td> 449</td>\n",
        "    </tr>\n",
        "    <tr>\n",
        "      <th>2012-01-05</th>\n",
        "      <td> 1233.8</td>\n",
        "      <td> 2012</td>\n",
        "      <td> 1</td>\n",
        "      <td> 5</td>\n",
        "      <td> 879.6425</td>\n",
        "      <td> 140.261527</td>\n",
        "      <td> 449</td>\n",
        "    </tr>\n",
        "  </tbody>\n",
        "</table>\n",
        "</div>"
       ],
       "metadata": {},
       "output_type": "pyout",
       "prompt_number": 45,
       "text": [
        "            rain_24h  year  month  day      clim   anomalies  monthly means\n",
        "lsd                                                                        \n",
        "2012-01-01    1140.4  2012      1    1  851.4800  133.931507            449\n",
        "2012-01-02    1151.2  2012      1    2  857.9100  134.186570            449\n",
        "2012-01-03    1220.0  2012      1    3  868.0975  140.537209            449\n",
        "2012-01-04    1233.0  2012      1    4  877.6175  140.494008            449\n",
        "2012-01-05    1233.8  2012      1    5  879.6425  140.261527            449"
       ]
      }
     ],
     "prompt_number": 45
    },
    {
     "cell_type": "code",
     "collapsed": false,
     "input": [
      "f, ax = plt.subplots(figsize=(12,8))\n",
      "\n",
      "f.subplots_adjust(bottom=0.15, left=0.08, right=1)\n",
      "\n",
      "### get the axes position and shrink the width to 80 % (for legend placement)\n",
      "box = ax.get_position()\n",
      "ax.set_position([box.x0, box.y0, box.width * 0.78, box.height])\n",
      "\n",
      "### first plot: monthtly average rainfall (mm)\n",
      "\n",
      "ax.plot(subsetper.index, subsetper['monthly means'], color='g', alpha=0.5)\n",
      "\n",
      "ax.fill_between(subsetper.index, subsetper['monthly means'],color='g', alpha=0.3)\n",
      "\n",
      "ax.set_ylim(0, max(subsetper['monthly means'] + 0.2 * subsetper['monthly means']))\n",
      "\n",
      "ax.set_ylabel(\"monthly (calendar month) rainfall (mm)\")\n",
      "\n",
      "ax.grid('off')\n",
      "\n",
      "[l.set_rotation(90) for l in ax.xaxis.get_ticklabels()]\n",
      "\n",
      "\n",
      "### second plot [window] days anomalies (% of normal)\n",
      "\n",
      "ax2 = ax.twinx()\n",
      "box = ax2.get_position()\n",
      "ax2.set_position([box.x0, box.y0, box.width * 0.78, box.height])\n",
      "\n",
      "\n",
      "ax2.plot(subsetper.index, subsetper['anomalies'], lw=2, color='b', label='90 days rainfall', zorder=12)\n",
      "\n",
      "ax2.axhline(10, color='r', zorder=10, lw=2)\n",
      "ax2.axhline(40, color='r', zorder=10)\n",
      "\n",
      "ax2.fill_between(subsetper.index, subsetper['anomalies'], np.ones(len(subsetper)) * 100., \\\n",
      "                 where=subsetper['anomalies'] > 100., color='b', interpolate=True, alpha=0.05)\n",
      "\n",
      "ax2.fill_between(subsetper.index, subsetper['anomalies'], np.ones(len(subsetper)) * 10., \\\n",
      "                 where=subsetper['anomalies'] < 10., color='#700000', interpolate=True, alpha=0.9)\n",
      "\n",
      "ax2.fill_between(subsetper.index, subsetper['anomalies'], np.ones(len(subsetper)) * 40., \\\n",
      "                 where=subsetper['anomalies'] < 40., color='r', interpolate=True, alpha=0.4)\n",
      "\n",
      "ax2.fill_between(subsetper.index, subsetper['anomalies'], np.ones(len(subsetper)) * 100., \\\n",
      "                 where=subsetper['anomalies'] < 100., color='r', interpolate=True, alpha=0.05)\n",
      "\n",
      "ax2.set_ylabel('percentage of normal', fontsize=16)\n",
      "\n",
      "ax2.grid('on')\n",
      "\n",
      "ax2.set_ylim(0, subsetper['anomalies'].max()+5)\n",
      "\n",
      "ax2.set_title(\"{} days cumulative rainfall anomalies (% of normal)\\nending {}\".format(window, subsetper.index[-1].strftime(\"%d %B %Y\")), fontsize=16)\n",
      "\n",
      "### legend \n",
      "p1 = plt.Rectangle((0, 0), 1, 1, fc=\"r\", alpha=0.05)\n",
      "p2 = plt.Rectangle((0, 0), 1, 1, fc=\"r\", alpha=0.4)\n",
      "p3 = plt.Rectangle((0, 0), 1, 1, fc=\"#700000\", alpha=0.9)\n",
      "leg = plt.legend([p1, p2, p3], ['< mean', '< 40%', '< 10%'],\\\n",
      "          loc='upper left', bbox_to_anchor = (1.035, 1.01), fontsize=19)\n",
      "leg.draw_frame(False)\n",
      "\n",
      "\n",
      "f.savefig('./images/drought_monitoring_1972-2012_per_{0}days_try.png'.format(window), dpi=200)"
     ],
     "language": "python",
     "metadata": {},
     "outputs": [
      {
       "metadata": {},
       "output_type": "display_data",
       "png": "[encoded data removed]",
       "text": [
        "<matplotlib.figure.Figure at 0x10940eb10>"
       ]
      }
     ],
     "prompt_number": 50
    },
    {
     "cell_type": "code",
     "collapsed": false,
     "input": [],
     "language": "python",
     "metadata": {},
     "outputs": []
    }
   ],
   "metadata": {}
  }
 ]
}