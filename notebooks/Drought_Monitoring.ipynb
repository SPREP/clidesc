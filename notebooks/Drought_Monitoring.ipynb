{
 "metadata": {
  "name": "",
  "signature": "sha256:4a72ff731df40a42688bb0c280e1ee98993030f8d5dd9096091db7c55d54f993"
 },
 "nbformat": 3,
 "nbformat_minor": 0,
 "worksheets": [
  {
   "cells": [
    {
     "cell_type": "heading",
     "level": 1,
     "metadata": {},
     "source": [
      "drought monitoring tool for CLIDESC"
     ]
    },
    {
     "cell_type": "code",
     "collapsed": false,
     "input": [
      "import os, sys\n",
      "import numpy as np\n",
      "import pandas as pd\n",
      "import matplotlib.pyplot as plt\n",
      "from scipy import stats\n",
      "\n",
      "import datetime "
     ],
     "language": "python",
     "metadata": {},
     "outputs": [],
     "prompt_number": 1
    },
    {
     "cell_type": "code",
     "collapsed": false,
     "input": [
      "import matplotlib as mpl"
     ],
     "language": "python",
     "metadata": {},
     "outputs": [],
     "prompt_number": 2
    },
    {
     "cell_type": "code",
     "collapsed": false,
     "input": [
      "mpl.rcParams['axes.labelsize'] = 16\n",
      "mpl.rcParams['ytick.labelsize'] = 16\n",
      "mpl.rcParams['xtick.labelsize'] = 16"
     ],
     "language": "python",
     "metadata": {},
     "outputs": [],
     "prompt_number": 3
    },
    {
     "cell_type": "code",
     "collapsed": false,
     "input": [
      "%matplotlib inline"
     ],
     "language": "python",
     "metadata": {},
     "outputs": [],
     "prompt_number": 4
    },
    {
     "cell_type": "heading",
     "level": 3,
     "metadata": {},
     "source": [
      "defines the window and min periods here "
     ]
    },
    {
     "cell_type": "code",
     "collapsed": false,
     "input": [
      "window = 90\n",
      "min_periods = np.int(np.floor(0.6 * window))\n",
      "smooth_periods = np.int(np.floor(0.1 * window))"
     ],
     "language": "python",
     "metadata": {},
     "outputs": [],
     "prompt_number": 5
    },
    {
     "cell_type": "code",
     "collapsed": false,
     "input": [
      "data = pd.read_csv('../data/Station_10001.csv', header=0, index_col='lsd', parse_dates=True, dayfirst=True)"
     ],
     "language": "python",
     "metadata": {},
     "outputs": [],
     "prompt_number": 6
    },
    {
     "cell_type": "code",
     "collapsed": false,
     "input": [
      "data.sort_index(inplace=True)"
     ],
     "language": "python",
     "metadata": {},
     "outputs": [],
     "prompt_number": 7
    },
    {
     "cell_type": "code",
     "collapsed": false,
     "input": [
      "data.drop(['station_no'], axis=1, inplace=True)"
     ],
     "language": "python",
     "metadata": {},
     "outputs": [],
     "prompt_number": 8
    },
    {
     "cell_type": "code",
     "collapsed": false,
     "input": [
      "tindex = pd.date_range(start=min(data.index), end=max(data.index))"
     ],
     "language": "python",
     "metadata": {},
     "outputs": [],
     "prompt_number": 9
    },
    {
     "cell_type": "heading",
     "level": 3,
     "metadata": {},
     "source": [
      "creates a continuous time index for the data"
     ]
    },
    {
     "cell_type": "code",
     "collapsed": false,
     "input": [
      "data = data.reindex(tindex)"
     ],
     "language": "python",
     "metadata": {},
     "outputs": [],
     "prompt_number": 10
    },
    {
     "cell_type": "heading",
     "level": 3,
     "metadata": {},
     "source": [
      "rolling sum over window"
     ]
    },
    {
     "cell_type": "code",
     "collapsed": false,
     "input": [
      "datars = pd.rolling_sum(data, window, min_periods=min_periods)"
     ],
     "language": "python",
     "metadata": {},
     "outputs": [],
     "prompt_number": 11
    },
    {
     "cell_type": "heading",
     "level": 3,
     "metadata": {},
     "source": [
      "monthly means from data"
     ]
    },
    {
     "cell_type": "code",
     "collapsed": false,
     "input": [
      "datam = data[['rain_24h']].resample('1M', how='sum')"
     ],
     "language": "python",
     "metadata": {},
     "outputs": [],
     "prompt_number": 15
    },
    {
     "cell_type": "code",
     "collapsed": false,
     "input": [
      "datam.head()"
     ],
     "language": "python",
     "metadata": {},
     "outputs": [
      {
       "html": [
        "<div style=\"max-height:1000px;max-width:1500px;overflow:auto;\">\n",
        "<table border=\"1\" class=\"dataframe\">\n",
        "  <thead>\n",
        "    <tr style=\"text-align: right;\">\n",
        "      <th></th>\n",
        "      <th>rain_24h</th>\n",
        "    </tr>\n",
        "  </thead>\n",
        "  <tbody>\n",
        "    <tr>\n",
        "      <th>1968-05-31</th>\n",
        "      <td>  90.0</td>\n",
        "    </tr>\n",
        "    <tr>\n",
        "      <th>1968-06-30</th>\n",
        "      <td> 118.6</td>\n",
        "    </tr>\n",
        "    <tr>\n",
        "      <th>1968-07-31</th>\n",
        "      <td>  34.8</td>\n",
        "    </tr>\n",
        "    <tr>\n",
        "      <th>1968-08-31</th>\n",
        "      <td>  80.1</td>\n",
        "    </tr>\n",
        "    <tr>\n",
        "      <th>1968-09-30</th>\n",
        "      <td> 102.6</td>\n",
        "    </tr>\n",
        "  </tbody>\n",
        "</table>\n",
        "</div>"
       ],
       "metadata": {},
       "output_type": "pyout",
       "prompt_number": 16,
       "text": [
        "            rain_24h\n",
        "1968-05-31      90.0\n",
        "1968-06-30     118.6\n",
        "1968-07-31      34.8\n",
        "1968-08-31      80.1\n",
        "1968-09-30     102.6"
       ]
      }
     ],
     "prompt_number": 16
    },
    {
     "cell_type": "code",
     "collapsed": false,
     "input": [
      "datam.columns = [['monthly means']]"
     ],
     "language": "python",
     "metadata": {},
     "outputs": [],
     "prompt_number": 17
    },
    {
     "cell_type": "code",
     "collapsed": false,
     "input": [
      "datam.head()"
     ],
     "language": "python",
     "metadata": {},
     "outputs": [
      {
       "html": [
        "<div style=\"max-height:1000px;max-width:1500px;overflow:auto;\">\n",
        "<table border=\"1\" class=\"dataframe\">\n",
        "  <thead>\n",
        "    <tr style=\"text-align: right;\">\n",
        "      <th></th>\n",
        "      <th>monthly means</th>\n",
        "    </tr>\n",
        "  </thead>\n",
        "  <tbody>\n",
        "    <tr>\n",
        "      <th>1968-05-31</th>\n",
        "      <td>  90.0</td>\n",
        "    </tr>\n",
        "    <tr>\n",
        "      <th>1968-06-30</th>\n",
        "      <td> 118.6</td>\n",
        "    </tr>\n",
        "    <tr>\n",
        "      <th>1968-07-31</th>\n",
        "      <td>  34.8</td>\n",
        "    </tr>\n",
        "    <tr>\n",
        "      <th>1968-08-31</th>\n",
        "      <td>  80.1</td>\n",
        "    </tr>\n",
        "    <tr>\n",
        "      <th>1968-09-30</th>\n",
        "      <td> 102.6</td>\n",
        "    </tr>\n",
        "  </tbody>\n",
        "</table>\n",
        "</div>"
       ],
       "metadata": {},
       "output_type": "pyout",
       "prompt_number": 18,
       "text": [
        "            monthly means\n",
        "1968-05-31           90.0\n",
        "1968-06-30          118.6\n",
        "1968-07-31           34.8\n",
        "1968-08-31           80.1\n",
        "1968-09-30          102.6"
       ]
      }
     ],
     "prompt_number": 18
    },
    {
     "cell_type": "code",
     "collapsed": false,
     "input": [
      "normal = ['1972-01-01','2012-12-31']"
     ],
     "language": "python",
     "metadata": {},
     "outputs": [],
     "prompt_number": 20
    },
    {
     "cell_type": "code",
     "collapsed": false,
     "input": [
      "normals = datars[normal[0]:normal[-1]]"
     ],
     "language": "python",
     "metadata": {},
     "outputs": [],
     "prompt_number": 21
    },
    {
     "cell_type": "code",
     "collapsed": false,
     "input": [
      "normals['year'] = normals.index.year\n",
      "normals['month'] = normals.index.month\n",
      "normals['day'] = normals.index.day"
     ],
     "language": "python",
     "metadata": {},
     "outputs": [],
     "prompt_number": 22
    },
    {
     "cell_type": "code",
     "collapsed": false,
     "input": [
      "datars['year'] = datars.index.year\n",
      "datars['month'] = datars.index.month\n",
      "datars['day'] = datars.index.day"
     ],
     "language": "python",
     "metadata": {},
     "outputs": [],
     "prompt_number": 23
    },
    {
     "cell_type": "code",
     "collapsed": false,
     "input": [
      "normals.head()"
     ],
     "language": "python",
     "metadata": {},
     "outputs": [
      {
       "html": [
        "<div style=\"max-height:1000px;max-width:1500px;overflow:auto;\">\n",
        "<table border=\"1\" class=\"dataframe\">\n",
        "  <thead>\n",
        "    <tr style=\"text-align: right;\">\n",
        "      <th></th>\n",
        "      <th>rain_24h</th>\n",
        "      <th>year</th>\n",
        "      <th>month</th>\n",
        "      <th>day</th>\n",
        "    </tr>\n",
        "  </thead>\n",
        "  <tbody>\n",
        "    <tr>\n",
        "      <th>1972-01-01</th>\n",
        "      <td>NaN</td>\n",
        "      <td> 1972</td>\n",
        "      <td> 1</td>\n",
        "      <td> 1</td>\n",
        "    </tr>\n",
        "    <tr>\n",
        "      <th>1972-01-02</th>\n",
        "      <td>NaN</td>\n",
        "      <td> 1972</td>\n",
        "      <td> 1</td>\n",
        "      <td> 2</td>\n",
        "    </tr>\n",
        "    <tr>\n",
        "      <th>1972-01-03</th>\n",
        "      <td>NaN</td>\n",
        "      <td> 1972</td>\n",
        "      <td> 1</td>\n",
        "      <td> 3</td>\n",
        "    </tr>\n",
        "    <tr>\n",
        "      <th>1972-01-04</th>\n",
        "      <td>NaN</td>\n",
        "      <td> 1972</td>\n",
        "      <td> 1</td>\n",
        "      <td> 4</td>\n",
        "    </tr>\n",
        "    <tr>\n",
        "      <th>1972-01-05</th>\n",
        "      <td>NaN</td>\n",
        "      <td> 1972</td>\n",
        "      <td> 1</td>\n",
        "      <td> 5</td>\n",
        "    </tr>\n",
        "  </tbody>\n",
        "</table>\n",
        "</div>"
       ],
       "metadata": {},
       "output_type": "pyout",
       "prompt_number": 29,
       "text": [
        "            rain_24h  year  month  day\n",
        "1972-01-01       NaN  1972      1    1\n",
        "1972-01-02       NaN  1972      1    2\n",
        "1972-01-03       NaN  1972      1    3\n",
        "1972-01-04       NaN  1972      1    4\n",
        "1972-01-05       NaN  1972      1    5"
       ]
      }
     ],
     "prompt_number": 29
    },
    {
     "cell_type": "heading",
     "level": 3,
     "metadata": {},
     "source": [
      "calculates a Monthly climatology"
     ]
    },
    {
     "cell_type": "code",
     "collapsed": false,
     "input": [
      "mclim = data['rain_24h'].resample('1M', how='sum')"
     ],
     "language": "python",
     "metadata": {},
     "outputs": [],
     "prompt_number": 24
    },
    {
     "cell_type": "code",
     "collapsed": false,
     "input": [
      "mclim = mclim.groupby(mclim.index.month).mean()"
     ],
     "language": "python",
     "metadata": {},
     "outputs": [],
     "prompt_number": 25
    },
    {
     "cell_type": "code",
     "collapsed": false,
     "input": [
      "def plot_rainfall_clim(mclim, station_name): \n",
      "    \"\"\"\n",
      "    plots a rainfall climatology for a station\n",
      "    \n",
      "    parameters\n",
      "    -------\n",
      "    mclim : Pandas.Series object\n",
      "        as returned from `x.groupby(x.index.month).mean()`\n",
      "    station_name : str\n",
      "        station name\n",
      "        \n",
      "    returns\n",
      "    -------\n",
      "    f : matplotlib figure object\n",
      "        the figure handle (to save with `f.savefig(outfile)`)\n",
      "    \"\"\"\n",
      "    f, ax = plt.subplots(figsize=(6,6))\n",
      "    ax.bar(np.arange(len(mclim)), mclim.values, color='steelblue',width=1, edgecolor='b')\n",
      "    ax.set_xticks(np.arange(0.5, len(mclim) + 0.5))\n",
      "    ax.set_xticklabels(list('JFMAMJJASOND'))\n",
      "    ax.set_ylabel('Rainfall (mm)') \n",
      "    #ax.set_xlim(-0.11, 12.1)\n",
      "    ax.yaxis.grid('on')\n",
      "    ax.set_title(station_name, fontsize=16)\n",
      "    return f"
     ],
     "language": "python",
     "metadata": {},
     "outputs": [],
     "prompt_number": 26
    },
    {
     "cell_type": "code",
     "collapsed": false,
     "input": [
      "f = plot_rainfall_clim(mclim, 'Asau')"
     ],
     "language": "python",
     "metadata": {},
     "outputs": [
      {
       "metadata": {},
       "output_type": "display_data",
       "png": "[encoded data removed]",
       "text": [
        "<matplotlib.figure.Figure at 0x1091bbf90>"
       ]
      }
     ],
     "prompt_number": 27
    },
    {
     "cell_type": "heading",
     "level": 2,
     "metadata": {},
     "source": [
      "Much more simpler: express anomalies in terms of percentage of normal and plot horiz. lines "
     ]
    },
    {
     "cell_type": "code",
     "collapsed": false,
     "input": [
      "clim = normals.groupby(['month','day'])[['rain_24h']].mean()\n",
      "#clim = normals.groupby(['month','day'])['rain_24h'].quantile(0.5)"
     ],
     "language": "python",
     "metadata": {},
     "outputs": [],
     "prompt_number": 31
    },
    {
     "cell_type": "code",
     "collapsed": false,
     "input": [
      "#clim = pd.DataFrame(clim)"
     ],
     "language": "python",
     "metadata": {},
     "outputs": [],
     "prompt_number": 24
    },
    {
     "cell_type": "code",
     "collapsed": false,
     "input": [
      "clim.head()"
     ],
     "language": "python",
     "metadata": {},
     "outputs": [
      {
       "html": [
        "<div style=\"max-height:1000px;max-width:1500px;overflow:auto;\">\n",
        "<table border=\"1\" class=\"dataframe\">\n",
        "  <thead>\n",
        "    <tr style=\"text-align: right;\">\n",
        "      <th></th>\n",
        "      <th></th>\n",
        "      <th>rain_24h</th>\n",
        "    </tr>\n",
        "    <tr>\n",
        "      <th>month</th>\n",
        "      <th>day</th>\n",
        "      <th></th>\n",
        "    </tr>\n",
        "  </thead>\n",
        "  <tbody>\n",
        "    <tr>\n",
        "      <th rowspan=\"5\" valign=\"top\">1</th>\n",
        "      <th>1</th>\n",
        "      <td> 880.492857</td>\n",
        "    </tr>\n",
        "    <tr>\n",
        "      <th>2</th>\n",
        "      <td> 883.332143</td>\n",
        "    </tr>\n",
        "    <tr>\n",
        "      <th>3</th>\n",
        "      <td> 891.553571</td>\n",
        "    </tr>\n",
        "    <tr>\n",
        "      <th>4</th>\n",
        "      <td> 892.707143</td>\n",
        "    </tr>\n",
        "    <tr>\n",
        "      <th>5</th>\n",
        "      <td> 898.271429</td>\n",
        "    </tr>\n",
        "  </tbody>\n",
        "</table>\n",
        "</div>"
       ],
       "metadata": {},
       "output_type": "pyout",
       "prompt_number": 32,
       "text": [
        "             rain_24h\n",
        "month day            \n",
        "1     1    880.492857\n",
        "      2    883.332143\n",
        "      3    891.553571\n",
        "      4    892.707143\n",
        "      5    898.271429"
       ]
      }
     ],
     "prompt_number": 32
    },
    {
     "cell_type": "code",
     "collapsed": false,
     "input": [
      "clim['month'] = clim.index.get_level_values(0)\n",
      "clim['day'] = clim.index.get_level_values(1)"
     ],
     "language": "python",
     "metadata": {},
     "outputs": [],
     "prompt_number": 26
    },
    {
     "cell_type": "code",
     "collapsed": false,
     "input": [
      "merged_df_mean = pd.merge(datars, clim, how='left', on=['month','day'])"
     ],
     "language": "python",
     "metadata": {},
     "outputs": [],
     "prompt_number": 27
    },
    {
     "cell_type": "code",
     "collapsed": false,
     "input": [
      "merged_df_mean.head()"
     ],
     "language": "python",
     "metadata": {},
     "outputs": [
      {
       "html": [
        "<div style=\"max-height:1000px;max-width:1500px;overflow:auto;\">\n",
        "<table border=\"1\" class=\"dataframe\">\n",
        "  <thead>\n",
        "    <tr style=\"text-align: right;\">\n",
        "      <th></th>\n",
        "      <th>rain_24h_x</th>\n",
        "      <th>year</th>\n",
        "      <th>month</th>\n",
        "      <th>day</th>\n",
        "      <th>rain_24h_y</th>\n",
        "    </tr>\n",
        "  </thead>\n",
        "  <tbody>\n",
        "    <tr>\n",
        "      <th>0</th>\n",
        "      <td>   NaN</td>\n",
        "      <td> 1968</td>\n",
        "      <td> 5</td>\n",
        "      <td> 8</td>\n",
        "      <td> 1051.546429</td>\n",
        "    </tr>\n",
        "    <tr>\n",
        "      <th>1</th>\n",
        "      <td> 982.8</td>\n",
        "      <td> 1969</td>\n",
        "      <td> 5</td>\n",
        "      <td> 8</td>\n",
        "      <td> 1051.546429</td>\n",
        "    </tr>\n",
        "    <tr>\n",
        "      <th>2</th>\n",
        "      <td> 993.4</td>\n",
        "      <td> 1970</td>\n",
        "      <td> 5</td>\n",
        "      <td> 8</td>\n",
        "      <td> 1051.546429</td>\n",
        "    </tr>\n",
        "    <tr>\n",
        "      <th>3</th>\n",
        "      <td>   NaN</td>\n",
        "      <td> 1971</td>\n",
        "      <td> 5</td>\n",
        "      <td> 8</td>\n",
        "      <td> 1051.546429</td>\n",
        "    </tr>\n",
        "    <tr>\n",
        "      <th>4</th>\n",
        "      <td>   NaN</td>\n",
        "      <td> 1972</td>\n",
        "      <td> 5</td>\n",
        "      <td> 8</td>\n",
        "      <td> 1051.546429</td>\n",
        "    </tr>\n",
        "  </tbody>\n",
        "</table>\n",
        "</div>"
       ],
       "metadata": {},
       "output_type": "pyout",
       "prompt_number": 28,
       "text": [
        "   rain_24h_x  year  month  day   rain_24h_y\n",
        "0         NaN  1968      5    8  1051.546429\n",
        "1       982.8  1969      5    8  1051.546429\n",
        "2       993.4  1970      5    8  1051.546429\n",
        "3         NaN  1971      5    8  1051.546429\n",
        "4         NaN  1972      5    8  1051.546429"
       ]
      }
     ],
     "prompt_number": 28
    },
    {
     "cell_type": "code",
     "collapsed": false,
     "input": [
      "merged_df_mean = merged_df_mean.sort(['year','month','day'], axis=0)"
     ],
     "language": "python",
     "metadata": {},
     "outputs": [],
     "prompt_number": 29
    },
    {
     "cell_type": "code",
     "collapsed": false,
     "input": [
      "merged_df_mean.columns = ['rain_24h', 'year', 'month','day', 'clim']"
     ],
     "language": "python",
     "metadata": {},
     "outputs": [],
     "prompt_number": 30
    },
    {
     "cell_type": "heading",
     "level": 3,
     "metadata": {},
     "source": [
      "calculates the anomalies"
     ]
    },
    {
     "cell_type": "code",
     "collapsed": false,
     "input": [
      "merged_df_mean['anomalies'] = (merged_df_mean['rain_24h'] / merged_df_mean['clim']) * 100."
     ],
     "language": "python",
     "metadata": {},
     "outputs": [],
     "prompt_number": 31
    },
    {
     "cell_type": "code",
     "collapsed": false,
     "input": [
      "merged_df_mean.head()"
     ],
     "language": "python",
     "metadata": {},
     "outputs": [
      {
       "html": [
        "<div style=\"max-height:1000px;max-width:1500px;overflow:auto;\">\n",
        "<table border=\"1\" class=\"dataframe\">\n",
        "  <thead>\n",
        "    <tr style=\"text-align: right;\">\n",
        "      <th></th>\n",
        "      <th>rain_24h</th>\n",
        "      <th>year</th>\n",
        "      <th>month</th>\n",
        "      <th>day</th>\n",
        "      <th>clim</th>\n",
        "      <th>anomalies</th>\n",
        "    </tr>\n",
        "  </thead>\n",
        "  <tbody>\n",
        "    <tr>\n",
        "      <th>0  </th>\n",
        "      <td>NaN</td>\n",
        "      <td> 1968</td>\n",
        "      <td> 5</td>\n",
        "      <td>  8</td>\n",
        "      <td> 1051.546429</td>\n",
        "      <td>NaN</td>\n",
        "    </tr>\n",
        "    <tr>\n",
        "      <th>46 </th>\n",
        "      <td>NaN</td>\n",
        "      <td> 1968</td>\n",
        "      <td> 5</td>\n",
        "      <td>  9</td>\n",
        "      <td> 1038.289286</td>\n",
        "      <td>NaN</td>\n",
        "    </tr>\n",
        "    <tr>\n",
        "      <th>92 </th>\n",
        "      <td>NaN</td>\n",
        "      <td> 1968</td>\n",
        "      <td> 5</td>\n",
        "      <td> 10</td>\n",
        "      <td> 1027.832143</td>\n",
        "      <td>NaN</td>\n",
        "    </tr>\n",
        "    <tr>\n",
        "      <th>138</th>\n",
        "      <td>NaN</td>\n",
        "      <td> 1968</td>\n",
        "      <td> 5</td>\n",
        "      <td> 11</td>\n",
        "      <td> 1014.989286</td>\n",
        "      <td>NaN</td>\n",
        "    </tr>\n",
        "    <tr>\n",
        "      <th>184</th>\n",
        "      <td>NaN</td>\n",
        "      <td> 1968</td>\n",
        "      <td> 5</td>\n",
        "      <td> 12</td>\n",
        "      <td> 1005.257143</td>\n",
        "      <td>NaN</td>\n",
        "    </tr>\n",
        "  </tbody>\n",
        "</table>\n",
        "</div>"
       ],
       "metadata": {},
       "output_type": "pyout",
       "prompt_number": 32,
       "text": [
        "     rain_24h  year  month  day         clim  anomalies\n",
        "0         NaN  1968      5    8  1051.546429        NaN\n",
        "46        NaN  1968      5    9  1038.289286        NaN\n",
        "92        NaN  1968      5   10  1027.832143        NaN\n",
        "138       NaN  1968      5   11  1014.989286        NaN\n",
        "184       NaN  1968      5   12  1005.257143        NaN"
       ]
      }
     ],
     "prompt_number": 32
    },
    {
     "cell_type": "code",
     "collapsed": false,
     "input": [
      "merged_df_mean.index = datars.index"
     ],
     "language": "python",
     "metadata": {},
     "outputs": [],
     "prompt_number": 33
    },
    {
     "cell_type": "code",
     "collapsed": false,
     "input": [
      "merged_df_mean['monthly means'] = datam['monthly means']"
     ],
     "language": "python",
     "metadata": {},
     "outputs": [],
     "prompt_number": 34
    },
    {
     "cell_type": "code",
     "collapsed": false,
     "input": [
      "merged_df_mean['monthly means'].fillna(method='bfill', inplace=True)"
     ],
     "language": "python",
     "metadata": {},
     "outputs": [],
     "prompt_number": 35
    },
    {
     "cell_type": "code",
     "collapsed": false,
     "input": [
      "subsetper = merged_df_mean['2012-01-01'::]"
     ],
     "language": "python",
     "metadata": {},
     "outputs": [],
     "prompt_number": 36
    },
    {
     "cell_type": "code",
     "collapsed": false,
     "input": [
      "subsetper.head()"
     ],
     "language": "python",
     "metadata": {},
     "outputs": [
      {
       "html": [
        "<div style=\"max-height:1000px;max-width:1500px;overflow:auto;\">\n",
        "<table border=\"1\" class=\"dataframe\">\n",
        "  <thead>\n",
        "    <tr style=\"text-align: right;\">\n",
        "      <th></th>\n",
        "      <th>rain_24h</th>\n",
        "      <th>year</th>\n",
        "      <th>month</th>\n",
        "      <th>day</th>\n",
        "      <th>clim</th>\n",
        "      <th>anomalies</th>\n",
        "      <th>monthly means</th>\n",
        "    </tr>\n",
        "  </thead>\n",
        "  <tbody>\n",
        "    <tr>\n",
        "      <th>2012-01-01</th>\n",
        "      <td> 548.4</td>\n",
        "      <td> 2012</td>\n",
        "      <td> 1</td>\n",
        "      <td> 1</td>\n",
        "      <td> 880.492857</td>\n",
        "      <td> 62.283299</td>\n",
        "      <td> 544.4</td>\n",
        "    </tr>\n",
        "    <tr>\n",
        "      <th>2012-01-02</th>\n",
        "      <td> 563.4</td>\n",
        "      <td> 2012</td>\n",
        "      <td> 1</td>\n",
        "      <td> 2</td>\n",
        "      <td> 883.332143</td>\n",
        "      <td> 63.781218</td>\n",
        "      <td> 544.4</td>\n",
        "    </tr>\n",
        "    <tr>\n",
        "      <th>2012-01-03</th>\n",
        "      <td> 598.4</td>\n",
        "      <td> 2012</td>\n",
        "      <td> 1</td>\n",
        "      <td> 3</td>\n",
        "      <td> 891.553571</td>\n",
        "      <td> 67.118793</td>\n",
        "      <td> 544.4</td>\n",
        "    </tr>\n",
        "    <tr>\n",
        "      <th>2012-01-04</th>\n",
        "      <td> 591.4</td>\n",
        "      <td> 2012</td>\n",
        "      <td> 1</td>\n",
        "      <td> 4</td>\n",
        "      <td> 892.707143</td>\n",
        "      <td> 66.247930</td>\n",
        "      <td> 544.4</td>\n",
        "    </tr>\n",
        "    <tr>\n",
        "      <th>2012-01-05</th>\n",
        "      <td> 625.9</td>\n",
        "      <td> 2012</td>\n",
        "      <td> 1</td>\n",
        "      <td> 5</td>\n",
        "      <td> 898.271429</td>\n",
        "      <td> 69.678271</td>\n",
        "      <td> 544.4</td>\n",
        "    </tr>\n",
        "  </tbody>\n",
        "</table>\n",
        "</div>"
       ],
       "metadata": {},
       "output_type": "pyout",
       "prompt_number": 37,
       "text": [
        "            rain_24h  year  month  day        clim  anomalies  monthly means\n",
        "2012-01-01     548.4  2012      1    1  880.492857  62.283299          544.4\n",
        "2012-01-02     563.4  2012      1    2  883.332143  63.781218          544.4\n",
        "2012-01-03     598.4  2012      1    3  891.553571  67.118793          544.4\n",
        "2012-01-04     591.4  2012      1    4  892.707143  66.247930          544.4\n",
        "2012-01-05     625.9  2012      1    5  898.271429  69.678271          544.4"
       ]
      }
     ],
     "prompt_number": 37
    },
    {
     "cell_type": "code",
     "collapsed": false,
     "input": [
      "f, ax = plt.subplots(figsize=(12,8))\n",
      "\n",
      "f.subplots_adjust(bottom=0.15, left=0.08, right=1)\n",
      "\n",
      "### get the axes position and shrink the width to 80 % (for legend placement)\n",
      "box = ax.get_position()\n",
      "ax.set_position([box.x0, box.y0, box.width * 0.78, box.height])\n",
      "\n",
      "### first plot: monthtly average rainfall (mm)\n",
      "\n",
      "ax.plot(subsetper.index, subsetper['monthly means'], color='g', alpha=0.5)\n",
      "\n",
      "ax.fill_between(subsetper.index, subsetper['monthly means'],color='g', alpha=0.3)\n",
      "\n",
      "ax.set_ylim(0, max(subsetper['monthly means'] + 0.2 * subsetper['monthly means']))\n",
      "\n",
      "ax.set_ylabel(\"monthly (calendar month) rainfall (mm)\")\n",
      "\n",
      "ax.grid('off')\n",
      "\n",
      "[l.set_rotation(90) for l in ax.xaxis.get_ticklabels()]\n",
      "\n",
      "\n",
      "### second plot [window] days anomalies (% of normal)\n",
      "\n",
      "ax2 = ax.twinx()\n",
      "box = ax2.get_position()\n",
      "ax2.set_position([box.x0, box.y0, box.width * 0.78, box.height])\n",
      "\n",
      "\n",
      "ax2.plot(subsetper.index, subsetper['anomalies'], lw=2, color='b', label='90 days rainfall', zorder=12)\n",
      "\n",
      "ax2.axhline(30, color='r', zorder=10, lw=2)\n",
      "ax2.axhline(60, color='r', zorder=10)\n",
      "\n",
      "ax2.fill_between(subsetper.index, subsetper['anomalies'], np.ones(len(subsetper)) * 100., \\\n",
      "                 where=subsetper['anomalies'] > 100., color='b', interpolate=True, alpha=0.05)\n",
      "\n",
      "ax2.fill_between(subsetper.index, subsetper['anomalies'], np.ones(len(subsetper)) * 30., \\\n",
      "                 where=subsetper['anomalies'] < 30., color='#700000', interpolate=True, alpha=0.9)\n",
      "\n",
      "ax2.fill_between(subsetper.index, subsetper['anomalies'], np.ones(len(subsetper)) * 60., \\\n",
      "                 where=subsetper['anomalies'] < 60., color='r', interpolate=True, alpha=0.4)\n",
      "\n",
      "ax2.fill_between(subsetper.index, subsetper['anomalies'], np.ones(len(subsetper)) * 100., \\\n",
      "                 where=subsetper['anomalies'] < 100., color='r', interpolate=True, alpha=0.05)\n",
      "\n",
      "ax2.set_ylabel('percentage of normal', fontsize=16)\n",
      "\n",
      "ax2.grid('on')\n",
      "\n",
      "ax2.set_ylim(0, subsetper['anomalies'].max()+5)\n",
      "\n",
      "ax2.set_title(\"{} days cumulative rainfall anomalies (% of normal)\\nending {}\".format(window, subsetper.index[-1].strftime(\"%d %B %Y\")), fontsize=16)\n",
      "\n",
      "### legend \n",
      "p1 = plt.Rectangle((0, 0), 1, 1, fc=\"r\", alpha=0.05)\n",
      "p2 = plt.Rectangle((0, 0), 1, 1, fc=\"r\", alpha=0.4)\n",
      "p3 = plt.Rectangle((0, 0), 1, 1, fc=\"#700000\", alpha=0.9)\n",
      "leg = plt.legend([p1, p2, p3], ['< mean', '< 60%', '< 30%'],\\\n",
      "          loc='upper left', bbox_to_anchor = (1.035, 1.01), fontsize=19)\n",
      "leg.draw_frame(False)\n",
      "\n",
      "\n",
      "f.savefig('./images/drought_monitoring_1972-2012_per_{0}days.png'.format(window), dpi=200)"
     ],
     "language": "python",
     "metadata": {},
     "outputs": [
      {
       "metadata": {},
       "output_type": "display_data",
       "png": "[encoded data removed]",
       "text": [
        "<matplotlib.figure.Figure at 0x10938a850>"
       ]
      }
     ],
     "prompt_number": 40
    },
    {
     "cell_type": "code",
     "collapsed": false,
     "input": [],
     "language": "python",
     "metadata": {},
     "outputs": []
    }
   ],
   "metadata": {}
  }
 ]
}